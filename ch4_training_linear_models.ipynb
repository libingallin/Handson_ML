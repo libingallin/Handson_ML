{
 "cells": [
  {
   "cell_type": "markdown",
   "metadata": {},
   "source": [
    "# Training Linear Models"
   ]
  },
  {
   "cell_type": "markdown",
   "metadata": {},
   "source": [
    "1. Linear Regression\n",
    " + The Normal Equation (the first way to train linear regression model)\n",
    " + Computational Complexity\n",
    "2. Gradient Descent (the second way)\n",
    " + Batch Gradient Descent\n",
    " + Stochastic Gradient Descent\n",
    " + Mini-batch Gradient Descent\n",
    "3. Polynomial Regression (can fit non-linear datasets)\n",
    "4. Learning Curve (detect whether or not overfitting)\n",
    "5. Regularized Linear Models (reduce the risk of overfitting the training set)\n",
    " + Ridge Regression\n",
    " + Lasso Regression\n",
    " + Elastic Regression\n",
    " + Early Stopping\n",
    "6. Logistic Regression (commonly used for classification)\n",
    " + Estimating Probabilities\n",
    " + Training and Cost Function\n",
    " + Decision Boundaries\n",
    " + Softmax Regression"
   ]
  },
  {
   "cell_type": "code",
   "execution_count": 1,
   "metadata": {
    "ExecuteTime": {
     "end_time": "2018-06-02T07:12:27.102538Z",
     "start_time": "2018-06-02T07:12:26.620738Z"
    }
   },
   "outputs": [],
   "source": [
    "import numpy as np\n",
    "import pandas as pd\n",
    "\n",
    "# to make this notebook's output stable across runs\n",
    "np.random.seed(42)\n",
    "\n",
    "# to plot pretty figures\n",
    "import matplotlib\n",
    "import matplotlib.pyplot as plt\n",
    "plt.rcParams[\"axes.labelsize\"] = 14\n",
    "plt.rcParams[\"xtick.labelsize\"] = 12\n",
    "plt.rcParams[\"ytick.labelsize\"] = 12\n",
    "%matplotlib inline"
   ]
  },
  {
   "cell_type": "markdown",
   "metadata": {},
   "source": [
    "## 1 Linear Regression"
   ]
  },
  {
   "cell_type": "markdown",
   "metadata": {},
   "source": [
    "More generally, a <font color='red'>linear model</font> makes a prediction by simply computing a weighted sum of the input features, plus a constant called the **bias term** (also called the **intercept term**).\n",
    "\n",
    "Equation 1: Linear Regression model prediction\n",
    "$$\\hat{y} = \\theta_0 + \\theta_1 x_1 + \\theta_2 x_2 + \\cdots + \\theta_n x_n$$\n",
    "\n",
    "Equation 2: Linear Regression model prediction (vectorized form)\n",
    "$$\\hat{y} = h_{\\theta}(\\bf x)= {\\theta}^T \\cdot {\\bf x}$$"
   ]
  },
  {
   "cell_type": "markdown",
   "metadata": {},
   "source": [
    "### 1.1 The Normal Equation"
   ]
  },
  {
   "cell_type": "markdown",
   "metadata": {
    "ExecuteTime": {
     "end_time": "2018-06-02T07:50:29.120351Z",
     "start_time": "2018-06-02T07:50:29.114329Z"
    }
   },
   "source": [
    "Equation 3: Normal Equation\n",
    "$$\\hat{\\theta} = ({\\bf X}^T \\cdot {\\bf X})^{-1} \\cdot {\\bf X}^T \\cdot y$$"
   ]
  },
  {
   "cell_type": "markdown",
   "metadata": {},
   "source": [
    "Generate some linear-looking data."
   ]
  },
  {
   "cell_type": "code",
   "execution_count": 2,
   "metadata": {
    "ExecuteTime": {
     "end_time": "2018-06-02T07:30:52.581889Z",
     "start_time": "2018-06-02T07:30:52.576897Z"
    }
   },
   "outputs": [],
   "source": [
    "X = 2 * np.random.rand(100, 1)\n",
    "y = 4 + 3 * X + np.random.randn(100, 1)"
   ]
  },
  {
   "cell_type": "code",
   "execution_count": 7,
   "metadata": {
    "ExecuteTime": {
     "end_time": "2018-06-02T07:33:58.539300Z",
     "start_time": "2018-06-02T07:33:58.533287Z"
    },
    "scrolled": true
   },
   "outputs": [
    {
     "data": {
      "text/plain": [
       "array([[0.74908024],\n",
       "       [1.90142861],\n",
       "       [1.46398788],\n",
       "       [1.19731697],\n",
       "       [0.31203728],\n",
       "       [0.31198904],\n",
       "       [0.11616722],\n",
       "       [1.73235229],\n",
       "       [1.20223002],\n",
       "       [1.41614516],\n",
       "       [0.04116899],\n",
       "       [1.9398197 ],\n",
       "       [1.66488528],\n",
       "       [0.42467822],\n",
       "       [0.36364993],\n",
       "       [0.36680902],\n",
       "       [0.60848449],\n",
       "       [1.04951286],\n",
       "       [0.86389004],\n",
       "       [0.58245828],\n",
       "       [1.22370579],\n",
       "       [0.27898772],\n",
       "       [0.5842893 ],\n",
       "       [0.73272369],\n",
       "       [0.91213997],\n",
       "       [1.57035192],\n",
       "       [0.39934756],\n",
       "       [1.02846888],\n",
       "       [1.18482914],\n",
       "       [0.09290083],\n",
       "       [1.2150897 ],\n",
       "       [0.34104825],\n",
       "       [0.13010319],\n",
       "       [1.89777107],\n",
       "       [1.93126407],\n",
       "       [1.6167947 ],\n",
       "       [0.60922754],\n",
       "       [0.19534423],\n",
       "       [1.36846605],\n",
       "       [0.88030499],\n",
       "       [0.24407647],\n",
       "       [0.99035382],\n",
       "       [0.06877704],\n",
       "       [1.8186408 ],\n",
       "       [0.51755996],\n",
       "       [1.32504457],\n",
       "       [0.62342215],\n",
       "       [1.04013604],\n",
       "       [1.09342056],\n",
       "       [0.36970891],\n",
       "       [1.93916926],\n",
       "       [1.55026565],\n",
       "       [1.87899788],\n",
       "       [1.7896547 ],\n",
       "       [1.19579996],\n",
       "       [1.84374847],\n",
       "       [0.176985  ],\n",
       "       [0.39196572],\n",
       "       [0.09045458],\n",
       "       [0.65066066],\n",
       "       [0.77735458],\n",
       "       [0.54269806],\n",
       "       [1.65747502],\n",
       "       [0.71350665],\n",
       "       [0.56186902],\n",
       "       [1.08539217],\n",
       "       [0.28184845],\n",
       "       [1.60439396],\n",
       "       [0.14910129],\n",
       "       [1.97377387],\n",
       "       [1.54448954],\n",
       "       [0.39743136],\n",
       "       [0.01104423],\n",
       "       [1.63092286],\n",
       "       [1.41371469],\n",
       "       [1.45801434],\n",
       "       [1.54254069],\n",
       "       [0.1480893 ],\n",
       "       [0.71693146],\n",
       "       [0.23173812],\n",
       "       [1.72620685],\n",
       "       [1.24659625],\n",
       "       [0.66179605],\n",
       "       [0.1271167 ],\n",
       "       [0.62196464],\n",
       "       [0.65036664],\n",
       "       [1.45921236],\n",
       "       [1.27511494],\n",
       "       [1.77442549],\n",
       "       [0.94442985],\n",
       "       [0.23918849],\n",
       "       [1.42648957],\n",
       "       [1.5215701 ],\n",
       "       [1.1225544 ],\n",
       "       [1.54193436],\n",
       "       [0.98759119],\n",
       "       [1.04546566],\n",
       "       [0.85508204],\n",
       "       [0.05083825],\n",
       "       [0.21578285]])"
      ]
     },
     "execution_count": 7,
     "metadata": {},
     "output_type": "execute_result"
    }
   ],
   "source": [
    "X"
   ]
  },
  {
   "cell_type": "code",
   "execution_count": 6,
   "metadata": {
    "ExecuteTime": {
     "end_time": "2018-06-02T07:33:49.077604Z",
     "start_time": "2018-06-02T07:33:49.070622Z"
    },
    "scrolled": true
   },
   "outputs": [
    {
     "data": {
      "text/plain": [
       "array([[ 6.33428778],\n",
       "       [ 9.40527849],\n",
       "       [ 8.48372443],\n",
       "       [ 5.60438199],\n",
       "       [ 4.71643995],\n",
       "       [ 5.29307969],\n",
       "       [ 5.82639572],\n",
       "       [ 8.67878666],\n",
       "       [ 6.79819647],\n",
       "       [ 7.74667842],\n",
       "       [ 5.03890908],\n",
       "       [10.14821022],\n",
       "       [ 8.46489564],\n",
       "       [ 5.7873021 ],\n",
       "       [ 5.18802735],\n",
       "       [ 6.06907205],\n",
       "       [ 5.12340036],\n",
       "       [ 6.82087644],\n",
       "       [ 6.19956196],\n",
       "       [ 4.28385989],\n",
       "       [ 7.96723765],\n",
       "       [ 5.09801844],\n",
       "       [ 5.75798135],\n",
       "       [ 5.96358393],\n",
       "       [ 5.32104916],\n",
       "       [ 8.29041045],\n",
       "       [ 4.85532818],\n",
       "       [ 6.28312936],\n",
       "       [ 7.3932017 ],\n",
       "       [ 4.68275333],\n",
       "       [ 9.53145501],\n",
       "       [ 5.19772255],\n",
       "       [ 4.64785995],\n",
       "       [ 9.61886731],\n",
       "       [ 7.87502098],\n",
       "       [ 8.82387021],\n",
       "       [ 5.88791282],\n",
       "       [ 7.0492748 ],\n",
       "       [ 7.91303719],\n",
       "       [ 6.9424623 ],\n",
       "       [ 4.69751764],\n",
       "       [ 5.80238342],\n",
       "       [ 5.34915394],\n",
       "       [10.20785545],\n",
       "       [ 6.34371184],\n",
       "       [ 7.06574625],\n",
       "       [ 7.27306077],\n",
       "       [ 5.71855706],\n",
       "       [ 7.86711877],\n",
       "       [ 7.29958236],\n",
       "       [ 8.82697144],\n",
       "       [ 8.08449921],\n",
       "       [ 9.73664501],\n",
       "       [ 8.86548845],\n",
       "       [ 6.03673644],\n",
       "       [ 9.59980838],\n",
       "       [ 3.4686513 ],\n",
       "       [ 5.64948961],\n",
       "       [ 3.3519395 ],\n",
       "       [ 7.50191639],\n",
       "       [ 5.54881045],\n",
       "       [ 5.30603267],\n",
       "       [ 9.78594227],\n",
       "       [ 4.90965564],\n",
       "       [ 5.91306699],\n",
       "       [ 8.56331925],\n",
       "       [ 3.23806212],\n",
       "       [ 8.99781574],\n",
       "       [ 4.70718666],\n",
       "       [10.70314449],\n",
       "       [ 7.3965179 ],\n",
       "       [ 3.87183748],\n",
       "       [ 4.55507427],\n",
       "       [ 9.18975324],\n",
       "       [ 8.49163691],\n",
       "       [ 8.72049122],\n",
       "       [ 7.94759736],\n",
       "       [ 4.67652161],\n",
       "       [ 6.44386684],\n",
       "       [ 3.98086294],\n",
       "       [11.04439507],\n",
       "       [ 8.21362168],\n",
       "       [ 4.79408465],\n",
       "       [ 5.03790371],\n",
       "       [ 4.89121226],\n",
       "       [ 6.73818454],\n",
       "       [ 9.53623265],\n",
       "       [ 7.00466251],\n",
       "       [10.28665258],\n",
       "       [ 7.24607048],\n",
       "       [ 5.53962564],\n",
       "       [10.17626171],\n",
       "       [ 8.31932218],\n",
       "       [ 6.61392702],\n",
       "       [ 7.73628865],\n",
       "       [ 6.14696329],\n",
       "       [ 7.05929527],\n",
       "       [ 6.90639808],\n",
       "       [ 4.42920556],\n",
       "       [ 5.47453181]])"
      ]
     },
     "execution_count": 6,
     "metadata": {},
     "output_type": "execute_result"
    }
   ],
   "source": [
    "y"
   ]
  },
  {
   "cell_type": "code",
   "execution_count": 9,
   "metadata": {
    "ExecuteTime": {
     "end_time": "2018-06-02T07:36:34.954048Z",
     "start_time": "2018-06-02T07:36:34.807438Z"
    }
   },
   "outputs": [
    {
     "data": {
      "image/png": "[encoded data removed]",
      "text/plain": [
       "<Figure size 432x288 with 1 Axes>"
      ]
     },
     "metadata": {},
     "output_type": "display_data"
    }
   ],
   "source": [
    "plt.plot(X, y, \"b.\")\n",
    "plt.xlabel(\"$x_1$\", fontsize=18)\n",
    "plt.ylabel(\"$y$\", fontsize=18, rotation=0)\n",
    "plt.axis([0, 2, 0, 15])\n",
    "plt.title(\"Randomly generated linear dataset\")\n",
    "plt.show()"
   ]
  },
  {
   "cell_type": "code",
   "execution_count": 11,
   "metadata": {
    "ExecuteTime": {
     "end_time": "2018-06-02T07:52:31.000089Z",
     "start_time": "2018-06-02T07:52:30.991110Z"
    }
   },
   "outputs": [
    {
     "data": {
      "text/plain": [
       "array([[4.21509616],\n",
       "       [2.77011339]])"
      ]
     },
     "execution_count": 11,
     "metadata": {},
     "output_type": "execute_result"
    }
   ],
   "source": [
    "# Add x0=1 to each instance\n",
    "X_b = np.c_[np.ones((100, 1)), X]\n",
    "theta_best = np.linalg.inv(X_b.T.dot(X_b)).dot(X_b.T).dot(y)\n",
    "theta_best"
   ]
  },
  {
   "cell_type": "markdown",
   "metadata": {},
   "source": [
    "Make predictions using $\\hat{\\theta}$:"
   ]
  },
  {
   "cell_type": "code",
   "execution_count": 13,
   "metadata": {
    "ExecuteTime": {
     "end_time": "2018-06-02T07:55:57.876268Z",
     "start_time": "2018-06-02T07:55:57.870284Z"
    }
   },
   "outputs": [
    {
     "data": {
      "text/plain": [
       "array([[0],\n",
       "       [2]])"
      ]
     },
     "execution_count": 13,
     "metadata": {},
     "output_type": "execute_result"
    }
   ],
   "source": [
    "X_new = np.array([[0], [2]])\n",
    "X_new"
   ]
  },
  {
   "cell_type": "code",
   "execution_count": 14,
   "metadata": {
    "ExecuteTime": {
     "end_time": "2018-06-02T07:56:55.266117Z",
     "start_time": "2018-06-02T07:56:55.260138Z"
    }
   },
   "outputs": [
    {
     "data": {
      "text/plain": [
       "array([[4.21509616],\n",
       "       [9.75532293]])"
      ]
     },
     "execution_count": 14,
     "metadata": {},
     "output_type": "execute_result"
    }
   ],
   "source": [
    "X_new_b = np.c_[np.ones((2, 1)), X_new]\n",
    "y_predict = X_new_b.dot(theta_best)\n",
    "y_predict"
   ]
  },
  {
   "cell_type": "markdown",
   "metadata": {},
   "source": [
    "Plot this model's predicitons:"
   ]
  },
  {
   "cell_type": "code",
   "execution_count": 17,
   "metadata": {
    "ExecuteTime": {
     "end_time": "2018-06-02T08:05:56.243642Z",
     "start_time": "2018-06-02T08:05:56.107972Z"
    }
   },
   "outputs": [
    {
     "data": {
      "image/png": "[encoded data removed]",
      "text/plain": [
       "<Figure size 432x288 with 1 Axes>"
      ]
     },
     "metadata": {},
     "output_type": "display_data"
    }
   ],
   "source": [
    "plt.plot(X_new, y_predict, \"r-\", label=\"Prediction\", linewidth=2)\n",
    "plt.plot(X, y, \"b.\")\n",
    "plt.xlabel(\"$x_1$\", fontsize=18)\n",
    "plt.ylabel(\"$y$\", fontsize=18, rotation=0)\n",
    "plt.legend(loc=\"upper left\", fontsize=14)\n",
    "plt.axis([0, 2, 0, 15])\n",
    "plt.title(\"Liear Regression model predictions\")\n",
    "plt.show()"
   ]
  },
  {
   "cell_type": "code",
   "execution_count": 18,
   "metadata": {
    "ExecuteTime": {
     "end_time": "2018-06-02T08:07:08.011254Z",
     "start_time": "2018-06-02T08:07:07.986320Z"
    }
   },
   "outputs": [
    {
     "data": {
      "text/plain": [
       "LinearRegression(copy_X=True, fit_intercept=True, n_jobs=1, normalize=False)"
      ]
     },
     "execution_count": 18,
     "metadata": {},
     "output_type": "execute_result"
    }
   ],
   "source": [
    "from sklearn.linear_model import LinearRegression\n",
    "\n",
    "lin_reg = LinearRegression()\n",
    "lin_reg.fit(X, y)"
   ]
  },
  {
   "cell_type": "code",
   "execution_count": 19,
   "metadata": {
    "ExecuteTime": {
     "end_time": "2018-06-02T08:07:17.352178Z",
     "start_time": "2018-06-02T08:07:17.347210Z"
    }
   },
   "outputs": [
    {
     "data": {
      "text/plain": [
       "array([[2.77011339]])"
      ]
     },
     "execution_count": 19,
     "metadata": {},
     "output_type": "execute_result"
    }
   ],
   "source": [
    "lin_reg.coef_"
   ]
  },
  {
   "cell_type": "code",
   "execution_count": 20,
   "metadata": {
    "ExecuteTime": {
     "end_time": "2018-06-02T08:07:25.271561Z",
     "start_time": "2018-06-02T08:07:25.266542Z"
    }
   },
   "outputs": [
    {
     "data": {
      "text/plain": [
       "array([4.21509616])"
      ]
     },
     "execution_count": 20,
     "metadata": {},
     "output_type": "execute_result"
    }
   ],
   "source": [
    "lin_reg.intercept_"
   ]
  },
  {
   "cell_type": "code",
   "execution_count": 21,
   "metadata": {
    "ExecuteTime": {
     "end_time": "2018-06-02T08:07:35.456242Z",
     "start_time": "2018-06-02T08:07:35.451270Z"
    }
   },
   "outputs": [
    {
     "data": {
      "text/plain": [
       "array([[4.21509616],\n",
       "       [9.75532293]])"
      ]
     },
     "execution_count": 21,
     "metadata": {},
     "output_type": "execute_result"
    }
   ],
   "source": [
    "lin_reg.predict(X_new)"
   ]
  },
  {
   "cell_type": "code",
   "execution_count": null,
   "metadata": {},
   "outputs": [],
   "source": [
    "The "
   ]
  }
 ],
 "metadata": {
  "kernelspec": {
   "display_name": "Python 3",
   "language": "python",
   "name": "python3"
  },
  "language_info": {
   "codemirror_mode": {
    "name": "ipython",
    "version": 3
   },
   "file_extension": ".py",
   "mimetype": "text/x-python",
   "name": "python",
   "nbconvert_exporter": "python",
   "pygments_lexer": "ipython3",
   "version": "3.6.4"
  },
  "latex_envs": {
   "LaTeX_envs_menu_present": true,
   "autoclose": false,
   "autocomplete": true,
   "bibliofile": "biblio.bib",
   "cite_by": "apalike",
   "current_citInitial": 1,
   "eqLabelWithNumbers": true,
   "eqNumInitial": 1,
   "hotkeys": {
    "equation": "Ctrl-E",
    "itemize": "Ctrl-I"
   },
   "labels_anchors": false,
   "latex_user_defs": false,
   "report_style_numbering": false,
   "user_envs_cfg": false
  },
  "nbTranslate": {
   "displayLangs": [
    "*"
   ],
   "hotkey": "alt-t",
   "langInMainMenu": true,
   "sourceLang": "en",
   "targetLang": "fr",
   "useGoogleTranslate": true
  }
 },
 "nbformat": 4,
 "nbformat_minor": 2
}
