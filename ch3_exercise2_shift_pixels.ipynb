{
 "cells": [
  {
   "cell_type": "markdown",
   "metadata": {},
   "source": [
    "### 移动MNIST图像并加入到训练集中。"
   ]
  },
  {
   "cell_type": "code",
   "execution_count": 1,
   "metadata": {
    "ExecuteTime": {
     "end_time": "2018-11-14T01:55:38.426755Z",
     "start_time": "2018-11-14T01:55:38.071919Z"
    },
    "collapsed": true
   },
   "outputs": [],
   "source": [
    "from sklearn.datasets import fetch_mldata\n",
    "\n",
    "mnist = fetch_mldata('MNIST original')"
   ]
  },
  {
   "cell_type": "code",
   "execution_count": 2,
   "metadata": {
    "ExecuteTime": {
     "end_time": "2018-11-14T01:55:38.431608Z",
     "start_time": "2018-11-14T01:55:38.428396Z"
    },
    "collapsed": true
   },
   "outputs": [],
   "source": [
    "X, y = mnist.data, mnist.target\n",
    "X_train, X_test, y_train, y_test = X[:60000], X[60000:], y[:60000], y[60000:]"
   ]
  },
  {
   "cell_type": "code",
   "execution_count": 3,
   "metadata": {
    "ExecuteTime": {
     "end_time": "2018-11-14T01:55:38.436799Z",
     "start_time": "2018-11-14T01:55:38.433665Z"
    },
    "collapsed": true
   },
   "outputs": [],
   "source": [
    "import numpy as np\n",
    "# to make this notebook's output stable across runs\n",
    "np.random.seed(42)"
   ]
  },
  {
   "cell_type": "code",
   "execution_count": 4,
   "metadata": {
    "ExecuteTime": {
     "end_time": "2018-11-14T01:55:38.474481Z",
     "start_time": "2018-11-14T01:55:38.438801Z"
    },
    "collapsed": true
   },
   "outputs": [],
   "source": [
    "shuffle_idx = np.random.permutation(60000)\n",
    "X_train, y_train = X_train[shuffle_idx], y_train[shuffle_idx]"
   ]
  },
  {
   "cell_type": "code",
   "execution_count": 5,
   "metadata": {
    "ExecuteTime": {
     "end_time": "2018-11-14T01:55:38.485629Z",
     "start_time": "2018-11-14T01:55:38.476320Z"
    },
    "collapsed": true
   },
   "outputs": [],
   "source": [
    "from scipy.ndimage.interpolation import shift"
   ]
  },
  {
   "cell_type": "code",
   "execution_count": 6,
   "metadata": {
    "ExecuteTime": {
     "end_time": "2018-11-14T01:55:38.495808Z",
     "start_time": "2018-11-14T01:55:38.487399Z"
    },
    "collapsed": true
   },
   "outputs": [],
   "source": [
    "def shift_image(image, dx, dy):\n",
    "    '''将MNIST图像向任意方向（上、下、左、右）移动任意像素。\n",
    "    dx：表示0轴，即上（负值）下（正值）移动。\n",
    "    dy：表示1轴，即左（负值）右（正值）移动'''\n",
    "    image = image.reshape((28, 28))\n",
    "    shifted_image = shift(image, [dx, dy], mode='constant', cval=0)\n",
    "    return shifted_image.reshape((-1))"
   ]
  },
  {
   "cell_type": "code",
   "execution_count": 7,
   "metadata": {
    "ExecuteTime": {
     "end_time": "2018-11-14T01:55:38.680563Z",
     "start_time": "2018-11-14T01:55:38.498145Z"
    },
    "collapsed": true
   },
   "outputs": [],
   "source": [
    "# to plot pretty figures\n",
    "import matplotlib\n",
    "import matplotlib.pyplot as plt\n",
    "plt.rcParams[\"axes.labelsize\"] = 14\n",
    "plt.rcParams[\"xtick.labelsize\"] = 12\n",
    "plt.rcParams[\"ytick.labelsize\"] = 12\n",
    "%matplotlib inline"
   ]
  },
  {
   "cell_type": "code",
   "execution_count": 8,
   "metadata": {
    "ExecuteTime": {
     "end_time": "2018-11-14T01:55:39.069606Z",
     "start_time": "2018-11-14T01:55:38.682770Z"
    }
   },
   "outputs": [
    {
     "data": {
      "image/png": "[encoded data removed]",
      "text/plain": [
       "<Figure size 1080x288 with 5 Axes>"
      ]
     },
     "metadata": {},
     "output_type": "display_data"
    }
   ],
   "source": [
    "image = X_train[1000]\n",
    "shifted_image_up = shift_image(image, -5, 0)\n",
    "shifted_image_down = shift_image(image, 5, 0)\n",
    "shifted_image_left = shift_image(image, 0, -5)\n",
    "shifted_image_right = shift_image(image, 0, 5)\n",
    "\n",
    "plt.figure(figsize=(15, 4))\n",
    "plt.subplot(151)\n",
    "plt.title('Original image')\n",
    "plt.imshow(image.reshape((28, 28)), interpolation=\"nearest\", cmap=\"Greys\")\n",
    "\n",
    "plt.subplot(152)\n",
    "plt.title('Shifted up')\n",
    "plt.imshow(shifted_image_up.reshape(28, 28),\n",
    "           interpolation=\"nearest\", cmap=\"Greys\")\n",
    "\n",
    "plt.subplot(153)\n",
    "plt.title('Shifted down')\n",
    "plt.imshow(shifted_image_down.reshape(28, 28),\n",
    "           interpolation=\"nearest\", cmap=\"Greys\")\n",
    "\n",
    "plt.subplot(154)\n",
    "plt.title('Shifted left')\n",
    "plt.imshow(shifted_image_left.reshape(28, 28),\n",
    "           interpolation=\"nearest\", cmap=\"Greys\")\n",
    "\n",
    "plt.subplot(155)\n",
    "plt.title('Shifted right')\n",
    "plt.imshow(shifted_image_right.reshape(28, 28),\n",
    "           interpolation=\"nearest\", cmap=\"Greys\")\n",
    "\n",
    "plt.show()"
   ]
  },
  {
   "cell_type": "markdown",
   "metadata": {},
   "source": [
    "对训练集中的每张图片，创建四个位移后的副本（每个方向一个），添加到训练集中。"
   ]
  },
  {
   "cell_type": "code",
   "execution_count": 9,
   "metadata": {
    "ExecuteTime": {
     "end_time": "2018-11-14T01:56:02.463494Z",
     "start_time": "2018-11-14T01:55:39.071694Z"
    },
    "collapsed": true
   },
   "outputs": [],
   "source": [
    "X_train_argmented = [image for image in X_train]\n",
    "y_train_argmented = [label for label in y_train]\n",
    "\n",
    "for dx, dy in ((-1, 0), (1, 0), (0, -1), (0, 1)):\n",
    "    for (image, label) in zip(X_train, y_train):\n",
    "        X_train_argmented.append(shift_image(image, dx, dy))\n",
    "        y_train_argmented.append(label)"
   ]
  },
  {
   "cell_type": "code",
   "execution_count": 29,
   "metadata": {
    "ExecuteTime": {
     "end_time": "2018-11-14T03:05:46.950228Z",
     "start_time": "2018-11-14T03:05:46.712137Z"
    }
   },
   "outputs": [],
   "source": [
    "X_train_argmented = np.array(X_train_argmented)\n",
    "y_train_argmented = np.array(y_train_argmented)"
   ]
  },
  {
   "cell_type": "code",
   "execution_count": 41,
   "metadata": {
    "ExecuteTime": {
     "end_time": "2018-11-14T03:18:21.664675Z",
     "start_time": "2018-11-14T03:18:21.652046Z"
    }
   },
   "outputs": [
    {
     "data": {
      "text/plain": [
       "300000"
      ]
     },
     "execution_count": 41,
     "metadata": {},
     "output_type": "execute_result"
    }
   ],
   "source": [
    "len(X_train_argmented)"
   ]
  },
  {
   "cell_type": "code",
   "execution_count": 42,
   "metadata": {
    "ExecuteTime": {
     "end_time": "2018-11-14T03:19:00.263972Z",
     "start_time": "2018-11-14T03:19:00.068828Z"
    }
   },
   "outputs": [],
   "source": [
    "shuffle_idx = np.random.permutation(len(X_train_argmented))\n",
    "X_train_argmented = X_train_argmented[shuffle_idx]\n",
    "y_train_argmented = y_train_argmented[shuffle_idx]"
   ]
  }
 ],
 "metadata": {
  "kernelspec": {
   "display_name": "Python [conda env:tf]",
   "language": "python",
   "name": "conda-env-tf-py"
  },
  "language_info": {
   "codemirror_mode": {
    "name": "ipython",
    "version": 3
   },
   "file_extension": ".py",
   "mimetype": "text/x-python",
   "name": "python",
   "nbconvert_exporter": "python",
   "pygments_lexer": "ipython3",
   "version": "3.6.2"
  },
  "toc": {
   "base_numbering": 1,
   "nav_menu": {},
   "number_sections": true,
   "sideBar": true,
   "skip_h1_title": false,
   "title_cell": "Table of Contents",
   "title_sidebar": "Contents",
   "toc_cell": false,
   "toc_position": {},
   "toc_section_display": true,
   "toc_window_display": false
  },
  "varInspector": {
   "cols": {
    "lenName": 16,
    "lenType": 16,
    "lenVar": 40
   },
   "kernels_config": {
    "python": {
     "delete_cmd_postfix": "",
     "delete_cmd_prefix": "del ",
     "library": "var_list.py",
     "varRefreshCmd": "print(var_dic_list())"
    },
    "r": {
     "delete_cmd_postfix": ") ",
     "delete_cmd_prefix": "rm(",
     "library": "var_list.r",
     "varRefreshCmd": "cat(var_dic_list()) "
    }
   },
   "types_to_exclude": [
    "module",
    "function",
    "builtin_function_or_method",
    "instance",
    "_Feature"
   ],
   "window_display": false
  }
 },
 "nbformat": 4,
 "nbformat_minor": 2
}
