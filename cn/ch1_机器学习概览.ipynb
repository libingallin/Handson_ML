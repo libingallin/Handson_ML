{
 "cells": [
  {
   "cell_type": "markdown",
   "metadata": {},
   "source": [
    "# 机器学习概述"
   ]
  },
  {
   "cell_type": "markdown",
   "metadata": {},
   "source": [
    "## 1 机器学习定义"
   ]
  },
  {
   "cell_type": "markdown",
   "metadata": {},
   "source": [
    "机器学习是一门能够让变成计算机从*数据*中学习的计算机科学（和艺术）。\n",
    "\n",
    "+ **一个笼统的定义：**\n",
    "机器学习研究如何让计算机不需要明确的程序也具备学习能力。\n",
    "\n",
    "+ **偏工程化的定义：**\n",
    "一个计算机程序在完成任务T之后，获得经验E，其表现效果为P，如果任务T的性能表现P，随着E的增加而增加，可以称其为*学习*。\n",
    "\n",
    "+ **机器学习技术定义：**\n",
    "在预先定义好的可能性空间（假设空间）中，利用反馈信号的指引来寻找输入数据的有用表示。\n",
    "\n",
    "+ **深度学习技术定义：**\n",
    "学习数据表示的多级方法。\n",
    "\n",
    "> 后面两种定义来自[《Deep Learning with Python》](https://www.amazon.com/Deep-Learning-Python-Francois-Chollet/dp/1617294438/ref=sr_1_3?__mk_zh_CN=%E4%BA%9A%E9%A9%AC%E9%80%8A%E7%BD%91%E7%AB%99&keywords=deep+learning&qid=1555341849&s=gateway&sr=8-3)"
   ]
  },
  {
   "cell_type": "markdown",
   "metadata": {},
   "source": [
    "## 2 为什么要使用机器学习"
   ]
  },
  {
   "cell_type": "markdown",
   "metadata": {},
   "source": [
    "### 2.1 传统编程\n",
    "\n",
    "输入的是规则（即程序）和需要根据这些规则进行处理的数据，系统的输出是答案。\n",
    "![传统编程方法](https://raw.githubusercontent.com/libingallin/hands-on-ml/master/cn/figures/ch1-figs/traditional-approach.png)\n",
    "\n",
    "程序很可能变成一长串的复杂规则，很难维护；传统方法太过复杂或者甚至不存在已知算法。"
   ]
  },
  {
   "cell_type": "markdown",
   "metadata": {},
   "source": [
    "### 2.2 机器学习解决方法\n",
    "\n",
    "输入的数据和从这些数据预期得到的答案，系统输出的是规则。这些规则随后可应用于新的数据，并使计算机自主生成答案。\n",
    "\n",
    "![机器学习解决方法](https://raw.githubusercontent.com/libingallin/hands-on-ml/master/cn/figures/ch1-figs/machine-learning-approach.png)\n",
    "\n",
    "这样的程序简单的多，易于维护，并且可能还更准确。\n",
    "\n",
    "而且还能自动适应变化，不需要人为干预。\n",
    "![机器学习方法自适应变化](https://raw.githubusercontent.com/libingallin/hands-on-ml/master/cn/figures/ch1-figs/automatically-adapting-to-change.png)\n",
    "\n",
    "机器学习可以帮助人类学习（如下图）：通过检视机器学习算法以了解它们学到了什么（有些算法是黑匣子，并不行）。\n",
    "![机器学习能够帮助人类学习](https://raw.githubusercontent.com/libingallin/hands-on-ml/master/cn/figures/ch1-figs/machine-learning-can-help-humans-learn.png)\n",
    "\n",
    "应用机器学习技术来挖掘海量数据，可以帮助我们发现那些此前并非立见端倪的模式，这个过程成为**数据挖掘(Data Mining)**。\n",
    "\n",
    "\n",
    "**机器学习的优点在于：**\n",
    "+ 通过ML方法可以简化代码，并且提升执行表现——现有解决方案需要大量手动调整或者规则列表超长。\n",
    "+ 一些复杂问题利用传统手段根本无法解决，而ML技术可以找到一个解决方案。\n",
    "+ 对于环境波动：ML系统可以适应新的数据。\n",
    "+ 从复杂问题和海量数据中获得洞见（get insights）。"
   ]
  },
  {
   "cell_type": "markdown",
   "metadata": {},
   "source": [
    "## 3 ML系统的类型"
   ]
  },
  {
   "cell_type": "markdown",
   "metadata": {
    "ExecuteTime": {
     "end_time": "2019-04-15T15:37:17.977504Z",
     "start_time": "2019-04-15T15:37:17.972947Z"
    }
   },
   "source": [
    "**可以将ML系统进行如下大的分类：**\n",
    "+ 是否在人类监督下训练（监督、无监督、半监督和强化学习）\n",
    "+ 是否可以动态地进行增量学习（在线学习和批量学习）\n",
    "+ 是简单的将新的数据点和已知的数据点进行匹配，还是建立一个预测模型（基于实例的学习和基于模型的学习）\n",
    "\n",
    "这些分类方法之间并互斥，可以以任何的方式组合，如建立一个在线的、基于模型的、监督式学习系统。"
   ]
  },
  {
   "cell_type": "markdown",
   "metadata": {},
   "source": [
    "### 3.1 监督式/无监督式学习"
   ]
  },
  {
   "cell_type": "markdown",
   "metadata": {},
   "source": [
    "根据训练期接受的监督数量和监督种类。"
   ]
  },
  {
   "cell_type": "markdown",
   "metadata": {},
   "source": [
    "#### 3.1.1 监督式学习（Supervised Learning）"
   ]
  },
  {
   "cell_type": "markdown",
   "metadata": {},
   "source": [
    "提供给算法的训练数据包含*labels*。\n",
    "\n",
    "**一些重要的监督式学习算法:**\n",
    "+ K-means++算法\n",
    "+ Linear Regression\n",
    "+ Logistic Regression\n",
    "+ Support Vector Machines, SVM\n",
    "+ Decision Trees and Random Forests\n",
    "+ Neural Networks"
   ]
  },
  {
   "cell_type": "markdown",
   "metadata": {},
   "source": [
    "#### 3.1.2 无监督式学习（UNsupervised Learning）"
   ]
  },
  {
   "cell_type": "markdown",
   "metadata": {},
   "source": [
    "训练数据都是未经标记的。\n",
    "\n",
    "**一些重要的无监督式学习算法：**\n",
    "1. **Clustering**\n",
    "  + K-Means\n",
    "  + 分层聚类分析（Hierarchical Cluster Analysis, HCA）\n",
    "  + 最大期望算法（Expectation Maximization）\n",
    "2. **Visualization and dimensionality reduction**\n",
    "  + PCA\n",
    "  + Kernel PCA\n",
    "  + 局部线性嵌入（Locally Linear Embedding, LLE）\n",
    "  + t-distributed Stochastic Neighbor Embedding, t-SNE\n",
    "3. **Association rule learning 关联规则学习**\n",
    "  + Apriori\n",
    "  + Eclat\n",
    "\n",
    "\n",
    "*可视化算法*会尽可能地保留尽量多的结构。\n",
    "\n",
    "*降维*的目的是在不丢失太多信息的前提下简化数据。方法之一是将多个相关特征合并为一个。\n",
    "\n",
    "**通常比较好的做法是，先使用降维算法减少训练数据的维度，再将其提供给另一个ML算法。这样会运行得更快，数据占用的磁盘空间和内存都会更小，在某些情况下，执行算法也会更好。**\n",
    "\n",
    "*异常检测*：系统用正常实例进行训练，然后当看到新的实例时，它就可以判断出这个新实例看上去是正常还是异常。\n",
    "\n",
    "*关联规则学习*目的是挖掘大量数据，发现属性之间的有趣联系。"
   ]
  },
  {
   "cell_type": "markdown",
   "metadata": {},
   "source": [
    "#### 3.1.3 半监督式学习（Semisupervised Learning）"
   ]
  },
  {
   "cell_type": "markdown",
   "metadata": {},
   "source": [
    "有些算法可以处理部分标记的训练数据——通常是大量未标记数据和少量的已标记数据。\n",
    "\n",
    "大多数半监督式学习算法是无监督式和监督式算法的结合。如*深度信念网络(Deep Belief Networkds, DBNs)*基于一种互相堆叠的无监督式组件，这个组件称为*受限玻尔兹曼机(Restricted Boltzmann Machines, RBMS)*。RBM以无监督的方式进行训练，然后使用监督式学习对整个系统进行微调。"
   ]
  },
  {
   "cell_type": "markdown",
   "metadata": {},
   "source": [
    "#### 3.1.4 强化学习（Reinforcement Learning, RL） "
   ]
  },
  {
   "cell_type": "markdown",
   "metadata": {},
   "source": [
    "RL的学习系统（称为*智能agent*）能够观察环境，做出选择，执行操作，并获得回报reward，或者是以负面回报的方式获得惩罚。必须自己学习什么是好的策略（policy），从而随着时间推移获得最大的回报。策略代表agent在特定情况下应该选择的操作。\n",
    "\n",
    "![RL](https://raw.githubusercontent.com/libingallin/hands-on-ml/master/cn/figures/ch1-figs/Reinforcement-learning.png)"
   ]
  },
  {
   "cell_type": "markdown",
   "metadata": {},
   "source": [
    "### 3.2 批量学习和在线学习"
   ]
  },
  {
   "cell_type": "markdown",
   "metadata": {},
   "source": [
    "看看系统是否可以从传入的数据流中进行增量学习。"
   ]
  },
  {
   "cell_type": "markdown",
   "metadata": {},
   "source": [
    "#### 3.2.1 Batch Learning"
   ]
  },
  {
   "cell_type": "code",
   "execution_count": null,
   "metadata": {},
   "outputs": [],
   "source": []
  }
 ],
 "metadata": {
  "kernelspec": {
   "display_name": "Python 3",
   "language": "python",
   "name": "python3"
  },
  "language_info": {
   "codemirror_mode": {
    "name": "ipython",
    "version": 3
   },
   "file_extension": ".py",
   "mimetype": "text/x-python",
   "name": "python",
   "nbconvert_exporter": "python",
   "pygments_lexer": "ipython3",
   "version": "3.6.2"
  },
  "toc": {
   "base_numbering": 1,
   "nav_menu": {},
   "number_sections": true,
   "sideBar": true,
   "skip_h1_title": false,
   "title_cell": "Table of Contents",
   "title_sidebar": "Contents",
   "toc_cell": false,
   "toc_position": {},
   "toc_section_display": true,
   "toc_window_display": true
  },
  "varInspector": {
   "cols": {
    "lenName": 16,
    "lenType": 16,
    "lenVar": 40
   },
   "kernels_config": {
    "python": {
     "delete_cmd_postfix": "",
     "delete_cmd_prefix": "del ",
     "library": "var_list.py",
     "varRefreshCmd": "print(var_dic_list())"
    },
    "r": {
     "delete_cmd_postfix": ") ",
     "delete_cmd_prefix": "rm(",
     "library": "var_list.r",
     "varRefreshCmd": "cat(var_dic_list()) "
    }
   },
   "types_to_exclude": [
    "module",
    "function",
    "builtin_function_or_method",
    "instance",
    "_Feature"
   ],
   "window_display": false
  }
 },
 "nbformat": 4,
 "nbformat_minor": 2
}
