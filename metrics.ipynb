{
 "cells": [
  {
   "cell_type": "code",
   "execution_count": 1,
   "metadata": {
    "ExecuteTime": {
     "end_time": "2018-11-07T07:53:15.805331Z",
     "start_time": "2018-11-07T07:53:15.430963Z"
    }
   },
   "outputs": [
    {
     "data": {
      "text/plain": [
       "{'COL_NAMES': ['label', 'data'],\n",
       " 'DESCR': 'mldata.org dataset: mnist-original',\n",
       " 'data': array([[0, 0, 0, ..., 0, 0, 0],\n",
       "        [0, 0, 0, ..., 0, 0, 0],\n",
       "        [0, 0, 0, ..., 0, 0, 0],\n",
       "        ...,\n",
       "        [0, 0, 0, ..., 0, 0, 0],\n",
       "        [0, 0, 0, ..., 0, 0, 0],\n",
       "        [0, 0, 0, ..., 0, 0, 0]], dtype=uint8),\n",
       " 'target': array([0., 0., 0., ..., 9., 9., 9.])}"
      ]
     },
     "execution_count": 1,
     "metadata": {},
     "output_type": "execute_result"
    }
   ],
   "source": [
    "from sklearn.datasets import fetch_mldata\n",
    "mnist = fetch_mldata('MNIST original')\n",
    "mnist"
   ]
  },
  {
   "cell_type": "code",
   "execution_count": 2,
   "metadata": {
    "ExecuteTime": {
     "end_time": "2018-11-07T07:53:15.809918Z",
     "start_time": "2018-11-07T07:53:15.807037Z"
    },
    "collapsed": true
   },
   "outputs": [],
   "source": [
    "X, y = mnist.data, mnist.target"
   ]
  },
  {
   "cell_type": "code",
   "execution_count": 3,
   "metadata": {
    "ExecuteTime": {
     "end_time": "2018-11-07T07:53:15.815283Z",
     "start_time": "2018-11-07T07:53:15.811811Z"
    }
   },
   "outputs": [
    {
     "data": {
      "text/plain": [
       "(70000, 784)"
      ]
     },
     "execution_count": 3,
     "metadata": {},
     "output_type": "execute_result"
    }
   ],
   "source": [
    "X.shape"
   ]
  },
  {
   "cell_type": "code",
   "execution_count": 4,
   "metadata": {
    "ExecuteTime": {
     "end_time": "2018-11-07T07:53:15.822270Z",
     "start_time": "2018-11-07T07:53:15.817156Z"
    }
   },
   "outputs": [
    {
     "data": {
      "text/plain": [
       "(70000,)"
      ]
     },
     "execution_count": 4,
     "metadata": {},
     "output_type": "execute_result"
    }
   ],
   "source": [
    "y.shape"
   ]
  },
  {
   "cell_type": "code",
   "execution_count": 5,
   "metadata": {
    "ExecuteTime": {
     "end_time": "2018-11-07T07:53:15.827478Z",
     "start_time": "2018-11-07T07:53:15.823903Z"
    }
   },
   "outputs": [
    {
     "data": {
      "text/plain": [
       "array([0., 0., 0., ..., 9., 9., 9.])"
      ]
     },
     "execution_count": 5,
     "metadata": {},
     "output_type": "execute_result"
    }
   ],
   "source": [
    "y"
   ]
  },
  {
   "cell_type": "code",
   "execution_count": 6,
   "metadata": {
    "ExecuteTime": {
     "end_time": "2018-11-07T07:53:16.073504Z",
     "start_time": "2018-11-07T07:53:15.829047Z"
    },
    "collapsed": true
   },
   "outputs": [],
   "source": [
    "%matplotlib inline\n",
    "import matplotlib.pyplot as plt\n",
    "import matplotlib"
   ]
  },
  {
   "cell_type": "code",
   "execution_count": 7,
   "metadata": {
    "ExecuteTime": {
     "end_time": "2018-11-07T07:53:16.171649Z",
     "start_time": "2018-11-07T07:53:16.075403Z"
    }
   },
   "outputs": [
    {
     "data": {
      "image/png": "[encoded data removed]",
      "text/plain": [
       "<Figure size 432x288 with 1 Axes>"
      ]
     },
     "metadata": {},
     "output_type": "display_data"
    }
   ],
   "source": [
    "some_digit = X[36000]\n",
    "some_digit_image = some_digit.reshape(28, 28)\n",
    "\n",
    "plt.imshow(some_digit_image, cmap=matplotlib.cm.binary, interpolation='nearest')\n",
    "plt.axis('off')\n",
    "plt.show()"
   ]
  },
  {
   "cell_type": "code",
   "execution_count": 8,
   "metadata": {
    "ExecuteTime": {
     "end_time": "2018-11-07T07:53:16.176752Z",
     "start_time": "2018-11-07T07:53:16.173413Z"
    }
   },
   "outputs": [
    {
     "data": {
      "text/plain": [
       "5.0"
      ]
     },
     "execution_count": 8,
     "metadata": {},
     "output_type": "execute_result"
    }
   ],
   "source": [
    "y[36000]"
   ]
  },
  {
   "cell_type": "markdown",
   "metadata": {},
   "source": [
    "MNIST数据集前60000个是训练集，后10000个是测试集（已经分好）："
   ]
  },
  {
   "cell_type": "code",
   "execution_count": 9,
   "metadata": {
    "ExecuteTime": {
     "end_time": "2018-11-07T07:53:16.181445Z",
     "start_time": "2018-11-07T07:53:16.178426Z"
    },
    "collapsed": true
   },
   "outputs": [],
   "source": [
    "X_train, y_train, X_test, y_test = X[:60000], y[:60000], X[60000:], y[60000:]"
   ]
  },
  {
   "cell_type": "code",
   "execution_count": 10,
   "metadata": {
    "ExecuteTime": {
     "end_time": "2018-11-07T07:53:16.192382Z",
     "start_time": "2018-11-07T07:53:16.184206Z"
    },
    "collapsed": true
   },
   "outputs": [],
   "source": [
    "import numpy as np"
   ]
  },
  {
   "cell_type": "code",
   "execution_count": 11,
   "metadata": {
    "ExecuteTime": {
     "end_time": "2018-11-07T07:53:16.247706Z",
     "start_time": "2018-11-07T07:53:16.195708Z"
    },
    "collapsed": true
   },
   "outputs": [],
   "source": [
    "# 打乱训练集，确保CV时所有的folds都差不多\n",
    "shuffle_idx = np.random.permutation(60000)\n",
    "X_train, y_train = X[shuffle_idx], y[shuffle_idx]"
   ]
  },
  {
   "cell_type": "markdown",
   "metadata": {},
   "source": [
    "## 二分类"
   ]
  },
  {
   "cell_type": "code",
   "execution_count": 12,
   "metadata": {
    "ExecuteTime": {
     "end_time": "2018-11-07T07:53:16.255123Z",
     "start_time": "2018-11-07T07:53:16.250494Z"
    },
    "collapsed": true
   },
   "outputs": [],
   "source": [
    "y_train_5 = (y_train == 5)\n",
    "y_test_5 = (y_test == 5)"
   ]
  },
  {
   "cell_type": "code",
   "execution_count": 13,
   "metadata": {
    "ExecuteTime": {
     "end_time": "2018-11-07T07:53:16.265489Z",
     "start_time": "2018-11-07T07:53:16.259476Z"
    }
   },
   "outputs": [
    {
     "data": {
      "text/plain": [
       "array([False, False, False, ..., False, False, False])"
      ]
     },
     "execution_count": 13,
     "metadata": {},
     "output_type": "execute_result"
    }
   ],
   "source": [
    "y_train_5"
   ]
  },
  {
   "cell_type": "code",
   "execution_count": 14,
   "metadata": {
    "ExecuteTime": {
     "end_time": "2018-11-07T07:54:32.834118Z",
     "start_time": "2018-11-07T07:53:16.267891Z"
    }
   },
   "outputs": [
    {
     "data": {
      "text/plain": [
       "SGDClassifier(alpha=0.0001, average=False, class_weight=None, epsilon=0.1,\n",
       "       eta0=0.0, fit_intercept=True, l1_ratio=0.15,\n",
       "       learning_rate='optimal', loss='hinge', max_iter=1000, n_iter=None,\n",
       "       n_jobs=-1, penalty='l2', power_t=0.5, random_state=42, shuffle=True,\n",
       "       tol=None, verbose=0, warm_start=False)"
      ]
     },
     "execution_count": 14,
     "metadata": {},
     "output_type": "execute_result"
    }
   ],
   "source": [
    "from sklearn.linear_model import SGDClassifier\n",
    "\n",
    "sgd_clf = SGDClassifier(random_state=42, max_iter=1000, n_jobs=-1)\n",
    "sgd_clf.fit(X_train, y_train_5)"
   ]
  },
  {
   "cell_type": "code",
   "execution_count": 15,
   "metadata": {
    "ExecuteTime": {
     "end_time": "2018-11-07T07:54:32.840228Z",
     "start_time": "2018-11-07T07:54:32.836260Z"
    }
   },
   "outputs": [
    {
     "data": {
      "text/plain": [
       "array([ True])"
      ]
     },
     "execution_count": 15,
     "metadata": {},
     "output_type": "execute_result"
    }
   ],
   "source": [
    "sgd_clf.predict([some_digit])"
   ]
  },
  {
   "cell_type": "code",
   "execution_count": 16,
   "metadata": {
    "ExecuteTime": {
     "end_time": "2018-11-07T07:54:32.844531Z",
     "start_time": "2018-11-07T07:54:32.842176Z"
    },
    "collapsed": true
   },
   "outputs": [],
   "source": [
    "from sklearn.base import clone"
   ]
  },
  {
   "cell_type": "code",
   "execution_count": 17,
   "metadata": {
    "ExecuteTime": {
     "end_time": "2018-11-07T07:54:32.848855Z",
     "start_time": "2018-11-07T07:54:32.845876Z"
    },
    "collapsed": true
   },
   "outputs": [],
   "source": [
    "clone_clf = clone(sgd_clf)"
   ]
  },
  {
   "cell_type": "code",
   "execution_count": 18,
   "metadata": {
    "ExecuteTime": {
     "end_time": "2018-11-07T07:54:32.856157Z",
     "start_time": "2018-11-07T07:54:32.851622Z"
    }
   },
   "outputs": [
    {
     "data": {
      "text/plain": [
       "SGDClassifier(alpha=0.0001, average=False, class_weight=None, epsilon=0.1,\n",
       "       eta0=0.0, fit_intercept=True, l1_ratio=0.15,\n",
       "       learning_rate='optimal', loss='hinge', max_iter=1000, n_iter=None,\n",
       "       n_jobs=-1, penalty='l2', power_t=0.5, random_state=42, shuffle=True,\n",
       "       tol=None, verbose=0, warm_start=False)"
      ]
     },
     "execution_count": 18,
     "metadata": {},
     "output_type": "execute_result"
    }
   ],
   "source": [
    "clone_clf"
   ]
  },
  {
   "cell_type": "code",
   "execution_count": 19,
   "metadata": {
    "ExecuteTime": {
     "end_time": "2018-11-07T07:54:32.863816Z",
     "start_time": "2018-11-07T07:54:32.858246Z"
    }
   },
   "outputs": [
    {
     "data": {
      "text/plain": [
       "array([126.76495537])"
      ]
     },
     "execution_count": 19,
     "metadata": {},
     "output_type": "execute_result"
    }
   ],
   "source": [
    "sgd_clf.intercept_"
   ]
  },
  {
   "cell_type": "code",
   "execution_count": 20,
   "metadata": {
    "ExecuteTime": {
     "end_time": "2018-11-07T07:54:33.019039Z",
     "start_time": "2018-11-07T07:54:32.866137Z"
    }
   },
   "outputs": [
    {
     "ename": "AttributeError",
     "evalue": "'SGDClassifier' object has no attribute 'intercept_'",
     "output_type": "error",
     "traceback": [
      "\u001b[0;31m---------------------------------------------------------------------------\u001b[0m",
      "\u001b[0;31mAttributeError\u001b[0m                            Traceback (most recent call last)",
      "\u001b[0;32m<ipython-input-20-d510394e0cc6>\u001b[0m in \u001b[0;36m<module>\u001b[0;34m()\u001b[0m\n\u001b[0;32m----> 1\u001b[0;31m \u001b[0mclone_clf\u001b[0m\u001b[0;34m.\u001b[0m\u001b[0mintercept_\u001b[0m\u001b[0;34m\u001b[0m\u001b[0m\n\u001b[0m",
      "\u001b[0;31mAttributeError\u001b[0m: 'SGDClassifier' object has no attribute 'intercept_'"
     ]
    }
   ],
   "source": [
    "clone_clf.intercept_"
   ]
  },
  {
   "cell_type": "markdown",
   "metadata": {},
   "source": [
    "只使用相同的参数。"
   ]
  },
  {
   "cell_type": "markdown",
   "metadata": {},
   "source": [
    "## 性能考核"
   ]
  },
  {
   "cell_type": "markdown",
   "metadata": {},
   "source": [
    "### 使用交叉验证精度测量准确率"
   ]
  },
  {
   "cell_type": "code",
   "execution_count": 21,
   "metadata": {
    "ExecuteTime": {
     "end_time": "2018-11-07T07:54:38.360430Z",
     "start_time": "2018-11-07T07:54:38.356105Z"
    },
    "collapsed": true
   },
   "outputs": [],
   "source": [
    "from sklearn.model_selection import cross_val_score"
   ]
  },
  {
   "cell_type": "code",
   "execution_count": 23,
   "metadata": {
    "ExecuteTime": {
     "end_time": "2018-11-07T07:57:49.354692Z",
     "start_time": "2018-11-07T07:56:35.801602Z"
    }
   },
   "outputs": [
    {
     "data": {
      "text/plain": [
       "array([0.9666 , 0.96325, 0.9663 ])"
      ]
     },
     "execution_count": 23,
     "metadata": {},
     "output_type": "execute_result"
    }
   ],
   "source": [
    "cross_val_score(sgd_clf, X_train, y_train_5, cv=3,\n",
    "                scoring='accuracy', n_jobs=-1)"
   ]
  },
  {
   "cell_type": "markdown",
   "metadata": {},
   "source": [
    "或者这样："
   ]
  },
  {
   "cell_type": "code",
   "execution_count": 24,
   "metadata": {
    "ExecuteTime": {
     "end_time": "2018-11-07T07:59:22.370105Z",
     "start_time": "2018-11-07T07:59:22.366109Z"
    },
    "collapsed": true
   },
   "outputs": [],
   "source": [
    "from sklearn.model_selection import StratifiedKFold\n",
    "\n",
    "skfolds = StratifiedKFold(n_splits=3, random_state=42)"
   ]
  },
  {
   "cell_type": "code",
   "execution_count": 26,
   "metadata": {
    "ExecuteTime": {
     "end_time": "2018-11-07T08:02:08.402433Z",
     "start_time": "2018-11-07T07:59:34.021295Z"
    }
   },
   "outputs": [
    {
     "name": "stdout",
     "output_type": "stream",
     "text": [
      "0.9666\n",
      "0.96325\n",
      "0.9663\n"
     ]
    }
   ],
   "source": [
    "for train_idx, test_idx in skfolds.split(X_train, y_train_5):\n",
    "    clone_clf = clone(sgd_clf)\n",
    "    X_train_folds = X_train[train_idx]\n",
    "    y_train_folds = y_train_5[train_idx]\n",
    "    X_test_folds = X_train[test_idx]\n",
    "    y_test_folds = y_train_5[test_idx]\n",
    "    \n",
    "    clone_clf.fit(X_train_folds, y_train_folds)\n",
    "    y_pred = clone_clf.predict(X_test_folds)\n",
    "    n_correct = sum(y_pred == y_test_folds)\n",
    "    print(n_correct / len(y_test_folds))"
   ]
  },
  {
   "cell_type": "markdown",
   "metadata": {},
   "source": [
    "### 笨分类器"
   ]
  },
  {
   "cell_type": "markdown",
   "metadata": {},
   "source": [
    "+ dummy clf"
   ]
  },
  {
   "cell_type": "code",
   "execution_count": 27,
   "metadata": {
    "ExecuteTime": {
     "end_time": "2018-11-07T08:03:01.193647Z",
     "start_time": "2018-11-07T08:03:01.181793Z"
    }
   },
   "outputs": [
    {
     "name": "stdout",
     "output_type": "stream",
     "text": [
      "Unique predicted labels: [False]\n",
      "Test score: 0.9108\n"
     ]
    }
   ],
   "source": [
    "from sklearn.dummy import DummyClassifier\n",
    "\n",
    "dummy_majority = DummyClassifier(strategy='most_frequent').fit(X_train,\n",
    "                                                               y_train_5)\n",
    "pred_most_frequent = dummy_majority.predict(X_test)\n",
    "print('Unique predicted labels: {}'.format(np.unique(pred_most_frequent)))\n",
    "print('Test score: {}'.format(dummy_majority.score(X_test, y_test_5)))"
   ]
  },
  {
   "cell_type": "markdown",
   "metadata": {},
   "source": [
    "+ 自定以分类器"
   ]
  },
  {
   "cell_type": "code",
   "execution_count": 28,
   "metadata": {
    "ExecuteTime": {
     "end_time": "2018-11-07T08:03:04.308640Z",
     "start_time": "2018-11-07T08:03:04.301996Z"
    },
    "collapsed": true
   },
   "outputs": [],
   "source": [
    "from sklearn.base import BaseEstimator\n",
    "\n",
    "class Never5Classifier(BaseEstimator):\n",
    "    '''将每张图都分为非5.'''\n",
    "    def fit(self, X, y=None):\n",
    "        pass\n",
    "    def predict(self, X):\n",
    "        return np.zeros((len(X), 1), dtype=bool)"
   ]
  },
  {
   "cell_type": "code",
   "execution_count": 29,
   "metadata": {
    "ExecuteTime": {
     "end_time": "2018-11-07T08:03:05.142575Z",
     "start_time": "2018-11-07T08:03:05.084490Z"
    }
   },
   "outputs": [
    {
     "data": {
      "text/plain": [
       "array([0.90775, 0.91045, 0.91075])"
      ]
     },
     "execution_count": 29,
     "metadata": {},
     "output_type": "execute_result"
    }
   ],
   "source": [
    "never_5_clf = Never5Classifier()\n",
    "cross_val_score(never_5_clf, X_train, y_train_5, cv=3, scoring='accuracy')"
   ]
  },
  {
   "cell_type": "markdown",
   "metadata": {},
   "source": [
    "全部预测为非5的accuracy超过90%，这是因为大约只有10%的图像是数字5。**正确率通常无法成为分类器的首要性能指标，特别是当处理类别不平衡数据集的时候。**"
   ]
  },
  {
   "cell_type": "markdown",
   "metadata": {},
   "source": [
    "## 混淆矩阵（confusion matrix）"
   ]
  },
  {
   "cell_type": "markdown",
   "metadata": {},
   "source": [
    "confusion matrix是评估二分类问题最全面的指标。"
   ]
  },
  {
   "cell_type": "code",
   "execution_count": 30,
   "metadata": {
    "ExecuteTime": {
     "end_time": "2018-11-07T08:05:17.972413Z",
     "start_time": "2018-11-07T08:04:06.854944Z"
    },
    "collapsed": true
   },
   "outputs": [],
   "source": [
    "from sklearn.model_selection import cross_val_predict\n",
    "\n",
    "y_train_pred = cross_val_predict(sgd_clf, X_train, y_train_5, cv=3, n_jobs=-1)"
   ]
  },
  {
   "cell_type": "code",
   "execution_count": 31,
   "metadata": {
    "ExecuteTime": {
     "end_time": "2018-11-07T08:05:38.045978Z",
     "start_time": "2018-11-07T08:05:38.004941Z"
    }
   },
   "outputs": [
    {
     "data": {
      "text/plain": [
       "array([[53617,   962],\n",
       "       [ 1115,  4306]])"
      ]
     },
     "execution_count": 31,
     "metadata": {},
     "output_type": "execute_result"
    }
   ],
   "source": [
    "from sklearn.metrics import confusion_matrix\n",
    "\n",
    "confusion_matrix(y_train_5, y_train_pred)"
   ]
  },
  {
   "cell_type": "markdown",
   "metadata": {},
   "source": [
    "行表示实际类别，列表示预测类别，主对角线对应于正确的分类，其他元素表示一个类别中有多少被误分为其他类别。"
   ]
  },
  {
   "cell_type": "code",
   "execution_count": 33,
   "metadata": {
    "ExecuteTime": {
     "end_time": "2018-11-07T08:12:36.697606Z",
     "start_time": "2018-11-07T08:12:36.686297Z"
    }
   },
   "outputs": [
    {
     "data": {
      "text/plain": [
       "array([False,  True])"
      ]
     },
     "execution_count": 33,
     "metadata": {},
     "output_type": "execute_result"
    }
   ],
   "source": [
    "sgd_clf.classes_"
   ]
  },
  {
   "cell_type": "markdown",
   "metadata": {},
   "source": [
    "二分类中，第一个类别表示负类（非5），第二个表示正类（5）。"
   ]
  },
  {
   "cell_type": "markdown",
   "metadata": {},
   "source": [
    "### precision"
   ]
  },
  {
   "cell_type": "markdown",
   "metadata": {},
   "source": [
    "$precision = \\frac {TP} {TP + FP}$\n",
    "\n",
    "正类预测的准确率。"
   ]
  },
  {
   "cell_type": "code",
   "execution_count": 32,
   "metadata": {
    "ExecuteTime": {
     "end_time": "2018-11-07T08:12:06.645390Z",
     "start_time": "2018-11-07T08:12:06.632014Z"
    }
   },
   "outputs": [
    {
     "data": {
      "text/plain": [
       "0.8173880030372058"
      ]
     },
     "execution_count": 32,
     "metadata": {},
     "output_type": "execute_result"
    }
   ],
   "source": [
    "from sklearn.metrics import precision_score\n",
    "\n",
    "precision_score(y_train_5, y_train_pred)"
   ]
  },
  {
   "cell_type": "code",
   "execution_count": 35,
   "metadata": {
    "ExecuteTime": {
     "end_time": "2018-11-07T08:18:46.762421Z",
     "start_time": "2018-11-07T08:18:46.757076Z"
    }
   },
   "outputs": [
    {
     "data": {
      "text/plain": [
       "0.8173880030372058"
      ]
     },
     "execution_count": 35,
     "metadata": {},
     "output_type": "execute_result"
    }
   ],
   "source": [
    "4306 / (4306 + 962)"
   ]
  },
  {
   "cell_type": "markdown",
   "metadata": {},
   "source": [
    "### recall / TPR"
   ]
  },
  {
   "cell_type": "markdown",
   "metadata": {},
   "source": [
    "$recall / TPR = \\frac {TP}{TP + FN}$\n",
    "\n",
    "正类样本有多少被预测为正类。"
   ]
  },
  {
   "cell_type": "code",
   "execution_count": 36,
   "metadata": {
    "ExecuteTime": {
     "end_time": "2018-11-07T08:21:53.054485Z",
     "start_time": "2018-11-07T08:21:53.037304Z"
    }
   },
   "outputs": [
    {
     "data": {
      "text/plain": [
       "0.7943183914406936"
      ]
     },
     "execution_count": 36,
     "metadata": {},
     "output_type": "execute_result"
    }
   ],
   "source": [
    "from sklearn.metrics import recall_score\n",
    "\n",
    "recall_score(y_train_5, y_train_pred)"
   ]
  },
  {
   "cell_type": "code",
   "execution_count": 37,
   "metadata": {
    "ExecuteTime": {
     "end_time": "2018-11-07T08:22:39.696141Z",
     "start_time": "2018-11-07T08:22:39.689767Z"
    }
   },
   "outputs": [
    {
     "data": {
      "text/plain": [
       "0.7944649446494465"
      ]
     },
     "execution_count": 37,
     "metadata": {},
     "output_type": "execute_result"
    }
   ],
   "source": [
    "4306 / (4305 + 1115)"
   ]
  },
  {
   "cell_type": "markdown",
   "metadata": {},
   "source": [
    "**precision通常与recall一起使用。**"
   ]
  },
  {
   "cell_type": "markdown",
   "metadata": {},
   "source": [
    "### F1"
   ]
  },
  {
   "cell_type": "markdown",
   "metadata": {},
   "source": [
    "将precision和recall结合起来得到F1分数。当需要一个简单的方法来比较两种分类器时，这是非常不错的指标。只有当precision和recall都很高时，分类器才能得到较高的F1分数。"
   ]
  },
  {
   "cell_type": "markdown",
   "metadata": {},
   "source": [
    "$F_1 = \\frac{2}{\\frac{1}{precision} + \\frac{1}{recall}} = 2 \\times \\frac{precision\\times recall}{precision + recall}$"
   ]
  },
  {
   "cell_type": "code",
   "execution_count": 38,
   "metadata": {
    "ExecuteTime": {
     "end_time": "2018-11-07T08:32:25.016489Z",
     "start_time": "2018-11-07T08:32:25.001238Z"
    }
   },
   "outputs": [
    {
     "data": {
      "text/plain": [
       "0.8056880905603891"
      ]
     },
     "execution_count": 38,
     "metadata": {},
     "output_type": "execute_result"
    }
   ],
   "source": [
    "from sklearn.metrics import f1_score\n",
    "\n",
    "f1_score(y_train_5, y_train_pred)"
   ]
  },
  {
   "cell_type": "markdown",
   "metadata": {},
   "source": [
    "F1分数的一个缺点是难以解释。\n",
    "\n",
    "F1分数同时考虑了precision和recall，所以它对于不平衡的数据集来说是一种更好的度量。"
   ]
  },
  {
   "cell_type": "code",
   "execution_count": 40,
   "metadata": {
    "ExecuteTime": {
     "end_time": "2018-11-07T08:36:08.881568Z",
     "start_time": "2018-11-07T08:36:08.863629Z"
    }
   },
   "outputs": [
    {
     "name": "stdout",
     "output_type": "stream",
     "text": [
      "             precision    recall  f1-score   support\n",
      "\n",
      "      False       0.98      0.98      0.98     54579\n",
      "       True       0.82      0.79      0.81      5421\n",
      "\n",
      "avg / total       0.96      0.97      0.97     60000\n",
      "\n"
     ]
    }
   ],
   "source": [
    "from sklearn.metrics import classification_report\n",
    "\n",
    "print(classification_report(y_train_5, y_train_pred))"
   ]
  },
  {
   "cell_type": "markdown",
   "metadata": {},
   "source": [
    "support表示这个类别在数据集中数量。avg是对应指标的加权平均。"
   ]
  },
  {
   "cell_type": "code",
   "execution_count": 45,
   "metadata": {
    "ExecuteTime": {
     "end_time": "2018-11-07T08:57:25.426211Z",
     "start_time": "2018-11-07T08:57:25.408450Z"
    }
   },
   "outputs": [
    {
     "data": {
      "text/plain": [
       "(array([0.97962801, 0.817388  ]),\n",
       " array([0.98237417, 0.79431839]),\n",
       " array([0.98099917, 0.80568809]),\n",
       " array([54579,  5421]))"
      ]
     },
     "execution_count": 45,
     "metadata": {},
     "output_type": "execute_result"
    }
   ],
   "source": [
    "from sklearn.metrics import precision_recall_fscore_support\n",
    "\n",
    "precision_recall_fscore_support(y_train_5, y_train_pred)"
   ]
  },
  {
   "cell_type": "markdown",
   "metadata": {},
   "source": [
    "### precision / recall权衡"
   ]
  },
  {
   "cell_type": "markdown",
   "metadata": {},
   "source": [
    "提高threshold，precision提高，recall降低，\n",
    "\n",
    "降低threshold，precision降低，recall提高。"
   ]
  },
  {
   "cell_type": "markdown",
   "metadata": {},
   "source": [
    "`decision_function()`的threshold为0，`predict_proba()`的threshold为0.5。"
   ]
  },
  {
   "cell_type": "code",
   "execution_count": 44,
   "metadata": {
    "ExecuteTime": {
     "end_time": "2018-11-07T08:54:48.466802Z",
     "start_time": "2018-11-07T08:53:35.652851Z"
    },
    "collapsed": true
   },
   "outputs": [],
   "source": [
    "y_scores = cross_val_predict(sgd_clf, X_train, y_train_5, cv=3,\n",
    "                             method='decision_function', n_jobs=-1)"
   ]
  },
  {
   "cell_type": "code",
   "execution_count": 46,
   "metadata": {
    "ExecuteTime": {
     "end_time": "2018-11-07T09:01:26.444993Z",
     "start_time": "2018-11-07T09:01:26.430343Z"
    },
    "collapsed": true
   },
   "outputs": [],
   "source": [
    "from sklearn.metrics import precision_recall_curve\n",
    "\n",
    "precisions, recalls, thresholds = precision_recall_curve(y_train_5, y_scores)"
   ]
  },
  {
   "cell_type": "code",
   "execution_count": 47,
   "metadata": {
    "ExecuteTime": {
     "end_time": "2018-11-07T09:03:58.887685Z",
     "start_time": "2018-11-07T09:03:58.877348Z"
    }
   },
   "outputs": [
    {
     "data": {
      "text/plain": [
       "59958"
      ]
     },
     "execution_count": 47,
     "metadata": {},
     "output_type": "execute_result"
    }
   ],
   "source": [
    "len(precisions)"
   ]
  },
  {
   "cell_type": "code",
   "execution_count": 48,
   "metadata": {
    "ExecuteTime": {
     "end_time": "2018-11-07T09:04:03.729255Z",
     "start_time": "2018-11-07T09:04:03.723006Z"
    }
   },
   "outputs": [
    {
     "data": {
      "text/plain": [
       "59957"
      ]
     },
     "execution_count": 48,
     "metadata": {},
     "output_type": "execute_result"
    }
   ],
   "source": [
    "len(thresholds)"
   ]
  },
  {
   "cell_type": "code",
   "execution_count": 49,
   "metadata": {
    "ExecuteTime": {
     "end_time": "2018-11-07T09:04:11.040230Z",
     "start_time": "2018-11-07T09:04:11.036711Z"
    }
   },
   "outputs": [
    {
     "data": {
      "text/plain": [
       "59958"
      ]
     },
     "execution_count": 49,
     "metadata": {},
     "output_type": "execute_result"
    }
   ],
   "source": [
    "len(recalls)"
   ]
  },
  {
   "cell_type": "code",
   "execution_count": 52,
   "metadata": {
    "ExecuteTime": {
     "end_time": "2018-11-07T09:16:12.912267Z",
     "start_time": "2018-11-07T09:16:12.713864Z"
    }
   },
   "outputs": [
    {
     "data": {
      "image/png": "[encoded data removed]",
      "text/plain": [
       "<Figure size 720x432 with 1 Axes>"
      ]
     },
     "metadata": {},
     "output_type": "display_data"
    }
   ],
   "source": [
    "plt.figure(figsize=(10, 6))\n",
    "plt.plot(thresholds, precisions[:-1], 'b--', label='precision')\n",
    "plt.plot(thresholds, recalls[:-1], 'g--', label='recall')\n",
    "plt.xlabel('Threshold')\n",
    "plt.legend(loc='center left')\n",
    "plt.show()"
   ]
  },
  {
   "cell_type": "markdown",
   "metadata": {},
   "source": [
    "> threshold增大，recall只会降低（曲线较平滑），但precision有时可能会降低（图中曲线崎岖原因）。"
   ]
  },
  {
   "cell_type": "code",
   "execution_count": 56,
   "metadata": {
    "ExecuteTime": {
     "end_time": "2018-11-07T09:27:10.578515Z",
     "start_time": "2018-11-07T09:27:10.392808Z"
    }
   },
   "outputs": [
    {
     "data": {
      "image/png": "[encoded data removed]",
      "text/plain": [
       "<Figure size 720x576 with 1 Axes>"
      ]
     },
     "metadata": {},
     "output_type": "display_data"
    }
   ],
   "source": [
    "close_zero = np.argmin(np.abs(thresholds))  # 最接近0的threshold\n",
    "\n",
    "plt.figure(figsize=(10, 8))\n",
    "plt.plot(precisions, recalls, label='precision recall curve')\n",
    "plt.plot(precisions[close_zero], recalls[close_zero], 'o', markersize=10,\n",
    "         label='threshold 0', fillstyle='none', c='k', mew=2)\n",
    "plt.xlabel('Precision')\n",
    "plt.xlim(0, 1)\n",
    "plt.ylabel('Recall')\n",
    "plt.ylim(0, 1)\n",
    "plt.show()"
   ]
  },
  {
   "cell_type": "markdown",
   "metadata": {},
   "source": [
    "**曲线越靠近右上角，分类器越好**。右上角的点表示同一threshold，precision和recall都很高。随着precision的升高模型能够保持较高的recall，则模型越好。\n",
    "\n",
    "曲线从左上角开始，这里对应非常低的阈值，所有样本都被划为正类。"
   ]
  },
  {
   "cell_type": "markdown",
   "metadata": {},
   "source": [
    "总结precision-recall曲线的一种方法是计算该曲线下的积分或面积，叫作**平均准确率（average precision）。**\n",
    "\n",
    "因为要计算precision-recall曲线并考虑多个阈值，所以需要向`metrics.average_precision_score()`传入`decision_function()`或`predict_proba()`的结果，而不是`predict()`的值。"
   ]
  },
  {
   "cell_type": "markdown",
   "metadata": {},
   "source": [
    "$AP=\\sum_{n}({R_n - R_{n-1})P_n}$"
   ]
  },
  {
   "cell_type": "code",
   "execution_count": 57,
   "metadata": {
    "ExecuteTime": {
     "end_time": "2018-11-07T10:21:20.474617Z",
     "start_time": "2018-11-07T10:21:20.413768Z"
    }
   },
   "outputs": [
    {
     "data": {
      "text/plain": [
       "0.8945955517512664"
      ]
     },
     "execution_count": 57,
     "metadata": {},
     "output_type": "execute_result"
    }
   ],
   "source": [
    "from sklearn.metrics import average_precision_score\n",
    "\n",
    "y_test_pred = sgd_clf.decision_function(X_test)\n",
    "average_precision_score(y_test_5, y_test_pred)"
   ]
  },
  {
   "cell_type": "markdown",
   "metadata": {},
   "source": [
    "AP是曲线下的面积，所以总是从0（最差）到1（最好）之间的值。**只适用于二分类或多类别分类任务。**"
   ]
  },
  {
   "cell_type": "markdown",
   "metadata": {},
   "source": [
    "### ROC（受试工作者特征）与AUC"
   ]
  },
  {
   "cell_type": "markdown",
   "metadata": {},
   "source": [
    "ROC与precision-recall曲线非常相似，考虑了给定分类器所有可能的threshold，但绘制的是假正例率（false true rate，FTR）和真正例率（true positive rate，TPR）。**只能二分类。**"
   ]
  },
  {
   "cell_type": "markdown",
   "metadata": {},
   "source": [
    "$TPR = \\frac{TP}{TP+FN}$, $FPR=\\frac{FP}{FP+TN}$"
   ]
  },
  {
   "cell_type": "code",
   "execution_count": 58,
   "metadata": {
    "ExecuteTime": {
     "end_time": "2018-11-07T11:48:50.667973Z",
     "start_time": "2018-11-07T11:48:50.645063Z"
    },
    "collapsed": true
   },
   "outputs": [],
   "source": [
    "from sklearn.metrics import roc_curve\n",
    "\n",
    "fpr, tpr, thresholds = roc_curve(y_train_5, y_scores)"
   ]
  },
  {
   "cell_type": "code",
   "execution_count": 59,
   "metadata": {
    "ExecuteTime": {
     "end_time": "2018-11-07T11:48:55.270428Z",
     "start_time": "2018-11-07T11:48:55.264414Z"
    }
   },
   "outputs": [
    {
     "data": {
      "text/plain": [
       "3187"
      ]
     },
     "execution_count": 59,
     "metadata": {},
     "output_type": "execute_result"
    }
   ],
   "source": [
    "len(fpr)"
   ]
  },
  {
   "cell_type": "code",
   "execution_count": 60,
   "metadata": {
    "ExecuteTime": {
     "end_time": "2018-11-07T11:48:59.334962Z",
     "start_time": "2018-11-07T11:48:59.328972Z"
    }
   },
   "outputs": [
    {
     "data": {
      "text/plain": [
       "3187"
      ]
     },
     "execution_count": 60,
     "metadata": {},
     "output_type": "execute_result"
    }
   ],
   "source": [
    "len(tpr)"
   ]
  },
  {
   "cell_type": "code",
   "execution_count": 61,
   "metadata": {
    "ExecuteTime": {
     "end_time": "2018-11-07T11:49:02.710387Z",
     "start_time": "2018-11-07T11:49:02.703893Z"
    }
   },
   "outputs": [
    {
     "data": {
      "text/plain": [
       "3187"
      ]
     },
     "execution_count": 61,
     "metadata": {},
     "output_type": "execute_result"
    }
   ],
   "source": [
    "len(thresholds)"
   ]
  },
  {
   "cell_type": "code",
   "execution_count": 63,
   "metadata": {
    "ExecuteTime": {
     "end_time": "2018-11-07T11:54:56.477959Z",
     "start_time": "2018-11-07T11:54:56.461938Z"
    },
    "collapsed": true
   },
   "outputs": [],
   "source": [
    "def plot_roc_curve(fpr, tpr, label=None):\n",
    "    plt.plot(fpr, tpr, label=label, linewidth=2)\n",
    "    plt.plot([0, 1], [0, 1], 'k--')\n",
    "    plt.axis([0, 1, 0, 1])\n",
    "    plt.xlabel('False positive rate (FPR)')\n",
    "    plt.ylabel('True positive rate (TPR)')"
   ]
  },
  {
   "cell_type": "code",
   "execution_count": 64,
   "metadata": {
    "ExecuteTime": {
     "end_time": "2018-11-07T11:55:20.513677Z",
     "start_time": "2018-11-07T11:55:20.395385Z"
    }
   },
   "outputs": [
    {
     "data": {
      "image/png": "[encoded data removed]",
      "text/plain": [
       "<Figure size 432x288 with 1 Axes>"
      ]
     },
     "metadata": {},
     "output_type": "display_data"
    }
   ],
   "source": [
    "plot_roc_curve(fpr, tpr)\n",
    "plt.show()"
   ]
  },
  {
   "cell_type": "markdown",
   "metadata": {},
   "source": [
    "召回率TPR越高，分类器产生的假正类（FPR）就越多。虚线表示纯随机分类器的ROC曲线：一个优秀的分类器应该离这条线越远越好（向左上角）。"
   ]
  },
  {
   "cell_type": "markdown",
   "metadata": {},
   "source": [
    "**另一个比较分类器的方法:测量曲线下面积。**完美的分类器ROC AUC等于1，而随机分类器的ROC AUC等于0.5。"
   ]
  },
  {
   "cell_type": "code",
   "execution_count": 65,
   "metadata": {
    "ExecuteTime": {
     "end_time": "2018-11-07T11:58:53.642398Z",
     "start_time": "2018-11-07T11:58:53.624033Z"
    }
   },
   "outputs": [
    {
     "data": {
      "text/plain": [
       "0.9660865196447503"
      ]
     },
     "execution_count": 65,
     "metadata": {},
     "output_type": "execute_result"
    }
   ],
   "source": [
    "from sklearn.metrics import roc_auc_score\n",
    "\n",
    "roc_auc_score(y_train_5, y_scores)"
   ]
  },
  {
   "cell_type": "markdown",
   "metadata": {},
   "source": [
    "**选择PR曲线或ROC曲线：当正类非常少见或者更关注假正类而不是假负类时，应该选择曲线，反之则是ROC曲线。**\n",
    "\n",
    "本例正类（数字5）相比负类（非5）很少，PR曲线清楚地说明分类器还有改进的空间。"
   ]
  },
  {
   "cell_type": "markdown",
   "metadata": {},
   "source": [
    "对于类别不平衡问题，AUC是一个比precision好得多的指标。"
   ]
  },
  {
   "cell_type": "code",
   "execution_count": 66,
   "metadata": {
    "ExecuteTime": {
     "end_time": "2018-11-07T12:06:34.877807Z",
     "start_time": "2018-11-07T12:06:30.812978Z"
    },
    "collapsed": true
   },
   "outputs": [],
   "source": [
    "from sklearn.ensemble import RandomForestClassifier\n",
    "\n",
    "rf_clf = RandomForestClassifier(random_state=42)\n",
    "y_probas = cross_val_predict(rf_clf, X_train, y_train_5, cv=3,\n",
    "                             method='predict_proba', n_jobs=-1)"
   ]
  },
  {
   "cell_type": "markdown",
   "metadata": {},
   "source": [
    "绘制ROC曲线，需要的是分数而不是概率大小。一个简单的方法：直接使用正类的概率作为分数值。"
   ]
  },
  {
   "cell_type": "code",
   "execution_count": 67,
   "metadata": {
    "ExecuteTime": {
     "end_time": "2018-11-07T12:11:04.682315Z",
     "start_time": "2018-11-07T12:11:04.665785Z"
    },
    "collapsed": true
   },
   "outputs": [],
   "source": [
    "fpr_rf, tpr_rf, thresholds_rf = roc_curve(y_train_5, y_probas[:, 1])"
   ]
  },
  {
   "cell_type": "code",
   "execution_count": 69,
   "metadata": {
    "ExecuteTime": {
     "end_time": "2018-11-07T12:13:04.857409Z",
     "start_time": "2018-11-07T12:13:04.695426Z"
    }
   },
   "outputs": [
    {
     "data": {
      "image/png": "[encoded data removed]",
      "text/plain": [
       "<Figure size 432x288 with 1 Axes>"
      ]
     },
     "metadata": {},
     "output_type": "display_data"
    }
   ],
   "source": [
    "plt.plot(fpr, tpr, 'r:', label='SGD')\n",
    "plot_roc_curve(fpr_rf, tpr_rf, 'Random forest')\n",
    "plt.legend()\n",
    "plt.show()"
   ]
  },
  {
   "cell_type": "code",
   "execution_count": 70,
   "metadata": {
    "ExecuteTime": {
     "end_time": "2018-11-07T12:13:45.480295Z",
     "start_time": "2018-11-07T12:13:45.450246Z"
    }
   },
   "outputs": [
    {
     "data": {
      "text/plain": [
       "0.9913147648040149"
      ]
     },
     "execution_count": 70,
     "metadata": {},
     "output_type": "execute_result"
    }
   ],
   "source": [
    "roc_auc_score(y_train_5, y_probas[:, 1])"
   ]
  },
  {
   "cell_type": "markdown",
   "metadata": {},
   "source": [
    "## 多类别分类器（Multiclass Clf）"
   ]
  },
  {
   "cell_type": "markdown",
   "metadata": {},
   "source": [
    "随机森林分类器和朴素贝叶斯分类器可以直接处理多个类别，诸如SVM和线性分类器这些只能处理二分类。"
   ]
  },
  {
   "cell_type": "markdown",
   "metadata": {},
   "source": [
    "1. OvA(one-versus-the rest)：一个类和剩余训练一个分类器，N个类需要N个训练器。\n",
    "2. OvO(one-versus-one)：为每两个类训练一个二分类器，N个类需要N(N-1)/2个分类器。优点：每个分类器只要部分训练集对其必须区分的两个类别进行训练。\n",
    "\n",
    "有些算法（SVM）在数据规模扩大时表现糟糕， 此时OVO是一个比较好的选择。但对大多数二元分类器来说，OvA策略还是更好的选择。"
   ]
  },
  {
   "cell_type": "markdown",
   "metadata": {},
   "source": [
    "**Sklearn可以检测到你尝试使用二分类算法进行多类别分类任务，它会自动运行OvA（SVM除外，它会使用OVO）。**"
   ]
  },
  {
   "cell_type": "code",
   "execution_count": 71,
   "metadata": {
    "ExecuteTime": {
     "end_time": "2018-11-07T12:52:00.971410Z",
     "start_time": "2018-11-07T12:46:45.008051Z"
    }
   },
   "outputs": [
    {
     "data": {
      "text/plain": [
       "SGDClassifier(alpha=0.0001, average=False, class_weight=None, epsilon=0.1,\n",
       "       eta0=0.0, fit_intercept=True, l1_ratio=0.15,\n",
       "       learning_rate='optimal', loss='hinge', max_iter=1000, n_iter=None,\n",
       "       n_jobs=-1, penalty='l2', power_t=0.5, random_state=42, shuffle=True,\n",
       "       tol=None, verbose=0, warm_start=False)"
      ]
     },
     "execution_count": 71,
     "metadata": {},
     "output_type": "execute_result"
    }
   ],
   "source": [
    "sgd_clf.fit(X_train, y_train)"
   ]
  },
  {
   "cell_type": "markdown",
   "metadata": {},
   "source": [
    "在内部，实际上训练了10个二分类器，获得decision_function()，然后选择分数最高的。"
   ]
  },
  {
   "cell_type": "code",
   "execution_count": 72,
   "metadata": {
    "ExecuteTime": {
     "end_time": "2018-11-07T12:52:29.250057Z",
     "start_time": "2018-11-07T12:52:29.244336Z"
    }
   },
   "outputs": [
    {
     "data": {
      "text/plain": [
       "array([5.])"
      ]
     },
     "execution_count": 72,
     "metadata": {},
     "output_type": "execute_result"
    }
   ],
   "source": [
    "sgd_clf.predict([some_digit])"
   ]
  },
  {
   "cell_type": "code",
   "execution_count": 73,
   "metadata": {
    "ExecuteTime": {
     "end_time": "2018-11-07T12:53:41.776298Z",
     "start_time": "2018-11-07T12:53:41.771586Z"
    }
   },
   "outputs": [
    {
     "data": {
      "text/plain": [
       "array([[  -79.10158778, -4153.97487182, -1517.7133887 ,   -98.07380496,\n",
       "        -2362.85496129,   621.97371014, -3489.37529079, -3734.77518705,\n",
       "        -3647.90021494, -4142.68748316]])"
      ]
     },
     "execution_count": 73,
     "metadata": {},
     "output_type": "execute_result"
    }
   ],
   "source": [
    "sgd_clf.decision_function([some_digit])"
   ]
  },
  {
   "cell_type": "markdown",
   "metadata": {},
   "source": [
    "**可以强行选择OvO或者OvA，只要使用`OneVsOneClassifier`或`OneVsRestClassifier`。**"
   ]
  },
  {
   "cell_type": "code",
   "execution_count": 74,
   "metadata": {
    "ExecuteTime": {
     "end_time": "2018-11-07T13:00:35.791059Z",
     "start_time": "2018-11-07T12:58:14.050568Z"
    }
   },
   "outputs": [
    {
     "data": {
      "text/plain": [
       "OneVsOneClassifier(estimator=SGDClassifier(alpha=0.0001, average=False, class_weight=None, epsilon=0.1,\n",
       "       eta0=0.0, fit_intercept=True, l1_ratio=0.15,\n",
       "       learning_rate='optimal', loss='hinge', max_iter=500, n_iter=None,\n",
       "       n_jobs=1, penalty='l2', power_t=0.5, random_state=42, shuffle=True,\n",
       "       tol=None, verbose=0, warm_start=False),\n",
       "          n_jobs=-1)"
      ]
     },
     "execution_count": 74,
     "metadata": {},
     "output_type": "execute_result"
    }
   ],
   "source": [
    "from sklearn.multiclass import OneVsOneClassifier\n",
    "\n",
    "ovo_clf = OneVsOneClassifier(SGDClassifier(random_state=42, max_iter=500),\n",
    "                             n_jobs=-1)\n",
    "ovo_clf.fit(X_train, y_train)"
   ]
  },
  {
   "cell_type": "code",
   "execution_count": 75,
   "metadata": {
    "ExecuteTime": {
     "end_time": "2018-11-07T13:01:19.871646Z",
     "start_time": "2018-11-07T13:01:19.859881Z"
    }
   },
   "outputs": [
    {
     "data": {
      "text/plain": [
       "array([0., 1., 2., 3., 4., 5., 6., 7., 8., 9.])"
      ]
     },
     "execution_count": 75,
     "metadata": {},
     "output_type": "execute_result"
    }
   ],
   "source": [
    "ovo_clf.classes_"
   ]
  },
  {
   "cell_type": "code",
   "execution_count": 76,
   "metadata": {
    "ExecuteTime": {
     "end_time": "2018-11-07T13:01:35.153975Z",
     "start_time": "2018-11-07T13:01:35.150062Z"
    }
   },
   "outputs": [
    {
     "data": {
      "text/plain": [
       "45"
      ]
     },
     "execution_count": 76,
     "metadata": {},
     "output_type": "execute_result"
    }
   ],
   "source": [
    "len(ovo_clf.estimators_)"
   ]
  },
  {
   "cell_type": "code",
   "execution_count": 78,
   "metadata": {
    "ExecuteTime": {
     "end_time": "2018-11-07T13:02:39.632311Z",
     "start_time": "2018-11-07T13:02:39.620796Z"
    }
   },
   "outputs": [
    {
     "data": {
      "text/plain": [
       "array([[7.19834256, 2.89665873, 5.15087892, 8.26152555, 2.89443228,\n",
       "        9.5       , 0.5627846 , 4.97382132, 1.80245752, 1.75909851]])"
      ]
     },
     "execution_count": 78,
     "metadata": {},
     "output_type": "execute_result"
    }
   ],
   "source": [
    "ovo_clf.decision_function([some_digit])"
   ]
  },
  {
   "cell_type": "markdown",
   "metadata": {},
   "source": [
    "RF可以直接处理多类别："
   ]
  },
  {
   "cell_type": "code",
   "execution_count": 77,
   "metadata": {
    "ExecuteTime": {
     "end_time": "2018-11-07T13:02:21.486650Z",
     "start_time": "2018-11-07T13:02:19.651449Z"
    }
   },
   "outputs": [
    {
     "data": {
      "text/plain": [
       "RandomForestClassifier(bootstrap=True, class_weight=None, criterion='gini',\n",
       "            max_depth=None, max_features='auto', max_leaf_nodes=None,\n",
       "            min_impurity_decrease=0.0, min_impurity_split=None,\n",
       "            min_samples_leaf=1, min_samples_split=2,\n",
       "            min_weight_fraction_leaf=0.0, n_estimators=10, n_jobs=-1,\n",
       "            oob_score=False, random_state=42, verbose=0, warm_start=False)"
      ]
     },
     "execution_count": 77,
     "metadata": {},
     "output_type": "execute_result"
    }
   ],
   "source": [
    "rf_clf = RandomForestClassifier(random_state=42, n_jobs=-1)\n",
    "rf_clf.fit(X_train, y_train)"
   ]
  },
  {
   "cell_type": "code",
   "execution_count": 79,
   "metadata": {
    "ExecuteTime": {
     "end_time": "2018-11-07T13:03:04.616760Z",
     "start_time": "2018-11-07T13:03:04.505270Z"
    }
   },
   "outputs": [
    {
     "data": {
      "text/plain": [
       "array([[0. , 0. , 0. , 0. , 0. , 0.9, 0. , 0. , 0. , 0.1]])"
      ]
     },
     "execution_count": 79,
     "metadata": {},
     "output_type": "execute_result"
    }
   ],
   "source": [
    "rf_clf.predict_proba([some_digit])"
   ]
  },
  {
   "cell_type": "code",
   "execution_count": 81,
   "metadata": {
    "ExecuteTime": {
     "end_time": "2018-11-07T13:04:01.656512Z",
     "start_time": "2018-11-07T13:03:58.384255Z"
    }
   },
   "outputs": [
    {
     "data": {
      "text/plain": [
       "0.9191"
      ]
     },
     "execution_count": 81,
     "metadata": {},
     "output_type": "execute_result"
    }
   ],
   "source": [
    "ovo_clf.score(X_test, y_test)"
   ]
  },
  {
   "cell_type": "markdown",
   "metadata": {},
   "source": [
    "SGD需要预处理："
   ]
  },
  {
   "cell_type": "code",
   "execution_count": 83,
   "metadata": {
    "ExecuteTime": {
     "end_time": "2018-11-07T13:05:55.308101Z",
     "start_time": "2018-11-07T13:05:53.833956Z"
    }
   },
   "outputs": [],
   "source": [
    "from sklearn.preprocessing import StandardScaler\n",
    "\n",
    "scaler = StandardScaler()\n",
    "X_train_scaled = scaler.fit_transform(X_train.astype(np.float64))\n",
    "x_test_scaled = scaler.transform(X_test.astype(np.float64))"
   ]
  },
  {
   "cell_type": "code",
   "execution_count": 84,
   "metadata": {
    "ExecuteTime": {
     "end_time": "2018-11-07T13:08:36.878262Z",
     "start_time": "2018-11-07T13:06:07.137329Z"
    }
   },
   "outputs": [
    {
     "data": {
      "text/plain": [
       "OneVsOneClassifier(estimator=SGDClassifier(alpha=0.0001, average=False, class_weight=None, epsilon=0.1,\n",
       "       eta0=0.0, fit_intercept=True, l1_ratio=0.15,\n",
       "       learning_rate='optimal', loss='hinge', max_iter=500, n_iter=None,\n",
       "       n_jobs=1, penalty='l2', power_t=0.5, random_state=42, shuffle=True,\n",
       "       tol=None, verbose=0, warm_start=False),\n",
       "          n_jobs=-1)"
      ]
     },
     "execution_count": 84,
     "metadata": {},
     "output_type": "execute_result"
    }
   ],
   "source": [
    "ovo_clf.fit(X_train_scaled, y_train)"
   ]
  },
  {
   "cell_type": "code",
   "execution_count": 85,
   "metadata": {
    "ExecuteTime": {
     "end_time": "2018-11-07T13:09:52.679946Z",
     "start_time": "2018-11-07T13:09:51.574894Z"
    }
   },
   "outputs": [
    {
     "data": {
      "text/plain": [
       "0.9237"
      ]
     },
     "execution_count": 85,
     "metadata": {},
     "output_type": "execute_result"
    }
   ],
   "source": [
    "ovo_clf.score(x_test_scaled, y_test)"
   ]
  },
  {
   "cell_type": "markdown",
   "metadata": {},
   "source": [
    "### 错误分析"
   ]
  },
  {
   "cell_type": "code",
   "execution_count": 86,
   "metadata": {
    "ExecuteTime": {
     "end_time": "2018-11-07T13:21:51.770146Z",
     "start_time": "2018-11-07T13:11:08.250888Z"
    },
    "collapsed": true
   },
   "outputs": [],
   "source": [
    "y_train_pred = cross_val_predict(sgd_clf, X_train_scaled, y_train, cv=3, n_jobs=-1)"
   ]
  },
  {
   "cell_type": "code",
   "execution_count": 87,
   "metadata": {
    "ExecuteTime": {
     "end_time": "2018-11-07T13:26:04.181027Z",
     "start_time": "2018-11-07T13:26:04.118077Z"
    }
   },
   "outputs": [
    {
     "data": {
      "text/plain": [
       "array([[5611,    0,   14,    7,    8,   45,   31,    7,  199,    1],\n",
       "       [   1, 6426,   44,   24,    3,   41,    4,    8,  179,   12],\n",
       "       [  22,   25, 5268,   88,   67,   26,   66,   43,  344,    9],\n",
       "       [  27,   18,  118, 5279,    1,  190,   23,   46,  364,   65],\n",
       "       [  13,   12,   47,   11, 5233,    9,   35,   27,  304,  151],\n",
       "       [  33,   17,   26,  164,   53, 4474,   81,   18,  486,   69],\n",
       "       [  29,   18,   46,    1,   39,   87, 5559,    9,  129,    1],\n",
       "       [  22,   15,   53,   23,   51,   11,    3, 5741,  144,  202],\n",
       "       [  14,   64,   40,   99,    2,  123,   31,   10, 5423,   45],\n",
       "       [  21,   21,   23,   60,  127,   37,    1,  173,  323, 5163]])"
      ]
     },
     "execution_count": 87,
     "metadata": {},
     "output_type": "execute_result"
    }
   ],
   "source": [
    "confusion_mat = confusion_matrix(y_train, y_train_pred)\n",
    "confusion_mat"
   ]
  },
  {
   "cell_type": "code",
   "execution_count": 88,
   "metadata": {
    "ExecuteTime": {
     "end_time": "2018-11-07T13:26:28.343605Z",
     "start_time": "2018-11-07T13:26:28.225071Z"
    }
   },
   "outputs": [
    {
     "data": {
      "image/png": "[encoded data removed]",
      "text/plain": [
       "<Figure size 288x288 with 1 Axes>"
      ]
     },
     "metadata": {},
     "output_type": "display_data"
    }
   ],
   "source": [
    "plt.matshow(confusion_mat, cmap=plt.cm.gray)\n",
    "plt.show()"
   ]
  },
  {
   "cell_type": "markdown",
   "metadata": {
    "ExecuteTime": {
     "end_time": "2018-11-07T13:28:06.586556Z",
     "start_time": "2018-11-07T13:28:06.581395Z"
    }
   },
   "source": [
    "将confusion matrix中的每个值除以相应类别中的图片数量，这样比较的就是错误了而不是错误的绝对值（后者对于图片数量的类别不公平）。"
   ]
  },
  {
   "cell_type": "code",
   "execution_count": 90,
   "metadata": {
    "ExecuteTime": {
     "end_time": "2018-11-07T13:29:00.841491Z",
     "start_time": "2018-11-07T13:29:00.836581Z"
    },
    "collapsed": true
   },
   "outputs": [],
   "source": [
    "row_sums = confusion_mat.sum(axis=1, keepdims=True)\n",
    "norm_confusion_mat = confusion_mat / row_sums"
   ]
  },
  {
   "cell_type": "code",
   "execution_count": 91,
   "metadata": {
    "ExecuteTime": {
     "end_time": "2018-11-07T13:31:02.207419Z",
     "start_time": "2018-11-07T13:31:02.120871Z"
    }
   },
   "outputs": [
    {
     "data": {
      "image/png": "[encoded data removed]",
      "text/plain": [
       "<Figure size 288x288 with 1 Axes>"
      ]
     },
     "metadata": {},
     "output_type": "display_data"
    }
   ],
   "source": [
    "# 用0填充对角线，只保留错误，重新绘制出结果\n",
    "np.fill_diagonal(norm_confusion_mat, 0)\n",
    "plt.matshow(norm_confusion_mat, cmap=plt.cm.gray)\n",
    "plt.show()"
   ]
  },
  {
   "cell_type": "code",
   "execution_count": 93,
   "metadata": {
    "ExecuteTime": {
     "end_time": "2018-11-07T13:34:42.055790Z",
     "start_time": "2018-11-07T13:34:42.014745Z"
    }
   },
   "outputs": [
    {
     "name": "stdout",
     "output_type": "stream",
     "text": [
      "             precision    recall  f1-score   support\n",
      "\n",
      "        0.0       0.97      0.95      0.96      5923\n",
      "        1.0       0.97      0.95      0.96      6742\n",
      "        2.0       0.93      0.88      0.91      5958\n",
      "        3.0       0.92      0.86      0.89      6131\n",
      "        4.0       0.94      0.90      0.92      5842\n",
      "        5.0       0.89      0.83      0.86      5421\n",
      "        6.0       0.95      0.94      0.95      5918\n",
      "        7.0       0.94      0.92      0.93      6265\n",
      "        8.0       0.69      0.93      0.79      5851\n",
      "        9.0       0.90      0.87      0.89      5949\n",
      "\n",
      "avg / total       0.91      0.90      0.90     60000\n",
      "\n"
     ]
    }
   ],
   "source": [
    "print(classification_report(y_train, y_train_pred))"
   ]
  },
  {
   "cell_type": "markdown",
   "metadata": {},
   "source": [
    "**对于多类别的不平衡数据集，最常用的指标是多分类版本的f1分数。**多分类f1分数思想是，对每个类别计算一个二分类f1分数，其中该类别是正类，其他所有类别组成反类。然后，使用一下策略之一对这些按类别f1分数进行平均：\n",
    "+ 宏平均（macro）：计算未加权的按类别f1分数。对所有类别给出相同权重，无论类别中的样本量大小。\n",
    "+ 加权平均（weighted）：以每个类别的支持作为权重来计算按类别f1分数的平均值。\n",
    "+ 微平均（micro）：计算所有类别中假正例、假反例和真正例的总数，然后利用这些计数来计算precision、recall和f1-score。"
   ]
  },
  {
   "cell_type": "code",
   "execution_count": 94,
   "metadata": {
    "ExecuteTime": {
     "end_time": "2018-11-07T13:37:34.684250Z",
     "start_time": "2018-11-07T13:37:34.646228Z"
    }
   },
   "outputs": [
    {
     "data": {
      "text/plain": [
       "0.90295"
      ]
     },
     "execution_count": 94,
     "metadata": {},
     "output_type": "execute_result"
    }
   ],
   "source": [
    "f1_score(y_train, y_train_pred, average='micro')"
   ]
  },
  {
   "cell_type": "code",
   "execution_count": 95,
   "metadata": {
    "ExecuteTime": {
     "end_time": "2018-11-07T13:37:54.494139Z",
     "start_time": "2018-11-07T13:37:54.467201Z"
    }
   },
   "outputs": [
    {
     "data": {
      "text/plain": [
       "0.9034728308017673"
      ]
     },
     "execution_count": 95,
     "metadata": {},
     "output_type": "execute_result"
    }
   ],
   "source": [
    "f1_score(y_train, y_train_pred, average='macro')"
   ]
  },
  {
   "cell_type": "markdown",
   "metadata": {},
   "source": [
    "## 多标签分类Multilabel Clf"
   ]
  },
  {
   "cell_type": "markdown",
   "metadata": {},
   "source": [
    "每个样本可以分为多个类别。"
   ]
  },
  {
   "cell_type": "code",
   "execution_count": 96,
   "metadata": {
    "ExecuteTime": {
     "end_time": "2018-11-07T13:44:50.070603Z",
     "start_time": "2018-11-07T13:44:50.065071Z"
    },
    "collapsed": true
   },
   "outputs": [],
   "source": [
    "y_train_large = (y_train >= 7)\n",
    "y_train_odd = (y_train % 2 == 1)\n",
    "y_multilabel = np.c_[y_train_large, y_train_odd]"
   ]
  },
  {
   "cell_type": "code",
   "execution_count": 97,
   "metadata": {
    "ExecuteTime": {
     "end_time": "2018-11-07T13:44:53.962652Z",
     "start_time": "2018-11-07T13:44:53.957961Z"
    }
   },
   "outputs": [
    {
     "data": {
      "text/plain": [
       "array([[False, False],\n",
       "       [ True,  True],\n",
       "       [False,  True],\n",
       "       ...,\n",
       "       [False, False],\n",
       "       [False,  True],\n",
       "       [ True, False]])"
      ]
     },
     "execution_count": 97,
     "metadata": {},
     "output_type": "execute_result"
    }
   ],
   "source": [
    "y_multilabel"
   ]
  },
  {
   "cell_type": "code",
   "execution_count": 98,
   "metadata": {
    "ExecuteTime": {
     "end_time": "2018-11-07T13:46:44.079943Z",
     "start_time": "2018-11-07T13:46:21.801120Z"
    }
   },
   "outputs": [
    {
     "data": {
      "text/plain": [
       "KNeighborsClassifier(algorithm='auto', leaf_size=30, metric='minkowski',\n",
       "           metric_params=None, n_jobs=-1, n_neighbors=5, p=2,\n",
       "           weights='uniform')"
      ]
     },
     "execution_count": 98,
     "metadata": {},
     "output_type": "execute_result"
    }
   ],
   "source": [
    "from sklearn.neighbors import KNeighborsClassifier\n",
    "\n",
    "knn_clf = KNeighborsClassifier(n_jobs=-1)\n",
    "knn_clf.fit(X_train, y_multilabel)"
   ]
  },
  {
   "cell_type": "code",
   "execution_count": 99,
   "metadata": {
    "ExecuteTime": {
     "end_time": "2018-11-07T13:47:42.718467Z",
     "start_time": "2018-11-07T13:47:42.605329Z"
    }
   },
   "outputs": [
    {
     "data": {
      "text/plain": [
       "array([[False,  True]])"
      ]
     },
     "execution_count": 99,
     "metadata": {},
     "output_type": "execute_result"
    }
   ],
   "source": [
    "knn_clf.predict([some_digit])"
   ]
  },
  {
   "cell_type": "markdown",
   "metadata": {},
   "source": [
    "## 多输出分类（Multioutput Clf）"
   ]
  },
  {
   "cell_type": "markdown",
   "metadata": {},
   "source": [
    "## 回归（regression）"
   ]
  },
  {
   "cell_type": "markdown",
   "metadata": {},
   "source": [
    "对大多数情况，使用默认的$R^2$足够了。它由所有回归器的`score()`方法给出。或者使用MSE，RMES，MAE等。"
   ]
  },
  {
   "cell_type": "markdown",
   "metadata": {
    "ExecuteTime": {
     "end_time": "2018-11-07T13:54:36.467786Z",
     "start_time": "2018-11-07T13:54:36.457779Z"
    }
   },
   "source": [
    "在使用`GridSearchCV`或者`cross_val_score()`可以通过参数`scoring`来指定想用的指标。"
   ]
  },
  {
   "cell_type": "code",
   "execution_count": 101,
   "metadata": {
    "ExecuteTime": {
     "end_time": "2018-11-07T13:55:26.338872Z",
     "start_time": "2018-11-07T13:55:26.326003Z"
    }
   },
   "outputs": [
    {
     "name": "stdout",
     "output_type": "stream",
     "text": [
      "Average scorers:\n",
      "dict_keys(['explained_variance', 'r2', 'neg_median_absolute_error', 'neg_mean_absolute_error', 'neg_mean_squared_error', 'neg_mean_squared_log_error', 'median_absolute_error', 'mean_absolute_error', 'mean_squared_error', 'accuracy', 'roc_auc', 'average_precision', 'log_loss', 'neg_log_loss', 'adjusted_rand_score', 'homogeneity_score', 'completeness_score', 'v_measure_score', 'mutual_info_score', 'adjusted_mutual_info_score', 'normalized_mutual_info_score', 'fowlkes_mallows_score', 'precision', 'precision_macro', 'precision_micro', 'precision_samples', 'precision_weighted', 'recall', 'recall_macro', 'recall_micro', 'recall_samples', 'recall_weighted', 'f1', 'f1_macro', 'f1_micro', 'f1_samples', 'f1_weighted'])\n"
     ]
    }
   ],
   "source": [
    "from sklearn.metrics.scorer import SCORERS\n",
    "print(\"Average scorers:\\n{}\".format(SCORERS.keys()))"
   ]
  }
 ],
 "metadata": {
  "kernelspec": {
   "display_name": "Python [conda env:tf]",
   "language": "python",
   "name": "conda-env-tf-py"
  },
  "language_info": {
   "codemirror_mode": {
    "name": "ipython",
    "version": 3
   },
   "file_extension": ".py",
   "mimetype": "text/x-python",
   "name": "python",
   "nbconvert_exporter": "python",
   "pygments_lexer": "ipython3",
   "version": "3.6.2"
  },
  "toc": {
   "base_numbering": 1,
   "nav_menu": {},
   "number_sections": true,
   "sideBar": true,
   "skip_h1_title": false,
   "title_cell": "Table of Contents",
   "title_sidebar": "Contents",
   "toc_cell": false,
   "toc_position": {},
   "toc_section_display": true,
   "toc_window_display": false
  },
  "varInspector": {
   "cols": {
    "lenName": 16,
    "lenType": 16,
    "lenVar": 40
   },
   "kernels_config": {
    "python": {
     "delete_cmd_postfix": "",
     "delete_cmd_prefix": "del ",
     "library": "var_list.py",
     "varRefreshCmd": "print(var_dic_list())"
    },
    "r": {
     "delete_cmd_postfix": ") ",
     "delete_cmd_prefix": "rm(",
     "library": "var_list.r",
     "varRefreshCmd": "cat(var_dic_list()) "
    }
   },
   "types_to_exclude": [
    "module",
    "function",
    "builtin_function_or_method",
    "instance",
    "_Feature"
   ],
   "window_display": false
  }
 },
 "nbformat": 4,
 "nbformat_minor": 2
}
