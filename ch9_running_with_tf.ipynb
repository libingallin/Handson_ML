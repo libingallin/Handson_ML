{
 "cells": [
  {
   "cell_type": "code",
   "execution_count": 1,
   "metadata": {
    "ExecuteTime": {
     "end_time": "2018-10-07T00:18:57.668693Z",
     "start_time": "2018-10-07T00:18:56.597016Z"
    },
    "collapsed": true
   },
   "outputs": [],
   "source": [
    "import tensorflow as tf"
   ]
  },
  {
   "cell_type": "code",
   "execution_count": 2,
   "metadata": {
    "ExecuteTime": {
     "end_time": "2018-10-07T00:18:57.680350Z",
     "start_time": "2018-10-07T00:18:57.671152Z"
    }
   },
   "outputs": [
    {
     "data": {
      "text/plain": [
       "'1.10.1'"
      ]
     },
     "execution_count": 2,
     "metadata": {},
     "output_type": "execute_result"
    }
   ],
   "source": [
    "tf.__version__"
   ]
  },
  {
   "cell_type": "markdown",
   "metadata": {},
   "source": [
    "### Creating a compuation graph and running it in a Session"
   ]
  },
  {
   "cell_type": "code",
   "execution_count": 3,
   "metadata": {
    "ExecuteTime": {
     "end_time": "2018-10-07T00:18:57.703392Z",
     "start_time": "2018-10-07T00:18:57.681852Z"
    },
    "collapsed": true
   },
   "outputs": [],
   "source": [
    "# Creates a computation graph\n",
    "x = tf.Variable(3, name='x')\n",
    "y = tf.Variable(4, name='y')\n",
    "f = x*x*y + y + 2"
   ]
  },
  {
   "cell_type": "code",
   "execution_count": 4,
   "metadata": {
    "ExecuteTime": {
     "end_time": "2018-10-07T00:18:57.708277Z",
     "start_time": "2018-10-07T00:18:57.704858Z"
    }
   },
   "outputs": [
    {
     "data": {
      "text/plain": [
       "tensorflow.python.ops.variables.Variable"
      ]
     },
     "execution_count": 4,
     "metadata": {},
     "output_type": "execute_result"
    }
   ],
   "source": [
    "type(x)"
   ]
  },
  {
   "cell_type": "code",
   "execution_count": 5,
   "metadata": {
    "ExecuteTime": {
     "end_time": "2018-10-07T00:18:57.713123Z",
     "start_time": "2018-10-07T00:18:57.709647Z"
    }
   },
   "outputs": [
    {
     "data": {
      "text/plain": [
       "tensorflow.python.framework.ops.Tensor"
      ]
     },
     "execution_count": 5,
     "metadata": {},
     "output_type": "execute_result"
    }
   ],
   "source": [
    "type(f)"
   ]
  },
  {
   "cell_type": "markdown",
   "metadata": {},
   "source": [
    "This code does not actually perform any computation. It **just creates a computation graph**. In fact, even the variables are not initialized yet.\n",
    "\n",
    "To evaluate this graph, u need to open a **TF `session`** and use it initialize the variables and evaluate `f`. A TF `session` takes care of placing the operations onto devices such as CPUs and GPUs and running them, and it holds all the variable values."
   ]
  },
  {
   "cell_type": "markdown",
   "metadata": {},
   "source": [
    "+ way 1"
   ]
  },
  {
   "cell_type": "code",
   "execution_count": 6,
   "metadata": {
    "ExecuteTime": {
     "end_time": "2018-10-07T00:18:58.482779Z",
     "start_time": "2018-10-07T00:18:57.715037Z"
    },
    "collapsed": true
   },
   "outputs": [],
   "source": [
    "sess = tf.Session()   # open a TF session\n",
    "# initialization\n",
    "sess.run(x.initializer) \n",
    "sess.run(y.initializer)\n",
    "\n",
    "result = sess.run(f)   # evaluate f"
   ]
  },
  {
   "cell_type": "code",
   "execution_count": 7,
   "metadata": {
    "ExecuteTime": {
     "end_time": "2018-10-07T00:18:58.489118Z",
     "start_time": "2018-10-07T00:18:58.484729Z"
    }
   },
   "outputs": [
    {
     "data": {
      "text/plain": [
       "42"
      ]
     },
     "execution_count": 7,
     "metadata": {},
     "output_type": "execute_result"
    }
   ],
   "source": [
    "result"
   ]
  },
  {
   "cell_type": "markdown",
   "metadata": {},
   "source": [
    "> Having to repeat `sess.run()` all the time is a bit cumbersome(麻烦)."
   ]
  },
  {
   "cell_type": "code",
   "execution_count": 8,
   "metadata": {
    "ExecuteTime": {
     "end_time": "2018-10-07T00:18:58.493891Z",
     "start_time": "2018-10-07T00:18:58.491257Z"
    },
    "collapsed": true
   },
   "outputs": [],
   "source": [
    "sess.close()   # close the session (which frees up resources)"
   ]
  },
  {
   "cell_type": "markdown",
   "metadata": {},
   "source": [
    "+ way 2"
   ]
  },
  {
   "cell_type": "code",
   "execution_count": 9,
   "metadata": {
    "ExecuteTime": {
     "end_time": "2018-10-07T00:18:58.518454Z",
     "start_time": "2018-10-07T00:18:58.496092Z"
    },
    "collapsed": true
   },
   "outputs": [],
   "source": [
    "# The session is automatically closed at the end of the block\n",
    "with tf.Session() as sess:\n",
    "    x.initializer.run()\n",
    "    y.initializer.run()\n",
    "    result = f.eval()"
   ]
  },
  {
   "cell_type": "code",
   "execution_count": 10,
   "metadata": {
    "ExecuteTime": {
     "end_time": "2018-10-07T00:18:58.525166Z",
     "start_time": "2018-10-07T00:18:58.520940Z"
    }
   },
   "outputs": [
    {
     "data": {
      "text/plain": [
       "42"
      ]
     },
     "execution_count": 10,
     "metadata": {},
     "output_type": "execute_result"
    }
   ],
   "source": [
    "result"
   ]
  },
  {
   "cell_type": "markdown",
   "metadata": {},
   "source": [
    "Calling `x.initializer.run()` is equivalent to calling `tf.get_default_session().run(x.initializer)`.  \n",
    "Calling `f.eval()` is equivalent to calling `tf.get_default_session.run(f)`"
   ]
  },
  {
   "cell_type": "markdown",
   "metadata": {},
   "source": [
    "+ way 3"
   ]
  },
  {
   "cell_type": "markdown",
   "metadata": {},
   "source": [
    "Use the `global_variables_initializer()` function to avoid manually running the initializer for every single variable."
   ]
  },
  {
   "cell_type": "code",
   "execution_count": 11,
   "metadata": {
    "ExecuteTime": {
     "end_time": "2018-10-07T00:18:58.558701Z",
     "start_time": "2018-10-07T00:18:58.527473Z"
    }
   },
   "outputs": [
    {
     "data": {
      "text/plain": [
       "42"
      ]
     },
     "execution_count": 11,
     "metadata": {},
     "output_type": "execute_result"
    }
   ],
   "source": [
    "init = tf.global_variables_initializer()   # prepare an init node\n",
    "\n",
    "with tf.Session() as sess:\n",
    "    init.run()   # actually initialize all the variables\n",
    "    result = f.eval()\n",
    "\n",
    "result"
   ]
  },
  {
   "cell_type": "markdown",
   "metadata": {},
   "source": [
    "+ way 4"
   ]
  },
  {
   "cell_type": "markdown",
   "metadata": {},
   "source": [
    "Inside Jupyter or within a Python shell u may prefer to create an `InteractiveSession`, which automatically sets itself as the default session, so u don't need a `with` block (but do need to close the session manually)."
   ]
  },
  {
   "cell_type": "code",
   "execution_count": 12,
   "metadata": {
    "ExecuteTime": {
     "end_time": "2018-10-07T00:18:58.574458Z",
     "start_time": "2018-10-07T00:18:58.560682Z"
    }
   },
   "outputs": [
    {
     "data": {
      "text/plain": [
       "42"
      ]
     },
     "execution_count": 12,
     "metadata": {},
     "output_type": "execute_result"
    }
   ],
   "source": [
    "init = tf.global_variables_initializer()   # prepare an init node\n",
    "\n",
    "sess = tf.InteractiveSession()\n",
    "init.run()\n",
    "result = f.eval()\n",
    "result"
   ]
  },
  {
   "cell_type": "code",
   "execution_count": 13,
   "metadata": {
    "ExecuteTime": {
     "end_time": "2018-10-07T00:18:58.579889Z",
     "start_time": "2018-10-07T00:18:58.576754Z"
    },
    "collapsed": true
   },
   "outputs": [],
   "source": [
    "sess.close()"
   ]
  },
  {
   "cell_type": "markdown",
   "metadata": {},
   "source": [
    "**A TF program is typically split into two parts:**\n",
    "1. construction phase----typically builds a computation graph representing the ML model and the computations required to train it.\n",
    "2. execution phase----generally runs a loop that evaluates a training step repeatedly (e.g., one step per mini-batch), gradually improving the model params."
   ]
  },
  {
   "cell_type": "markdown",
   "metadata": {},
   "source": [
    "### Managing Graphs"
   ]
  },
  {
   "cell_type": "code",
   "execution_count": 14,
   "metadata": {
    "ExecuteTime": {
     "end_time": "2018-10-07T00:18:58.587518Z",
     "start_time": "2018-10-07T00:18:58.582837Z"
    }
   },
   "outputs": [
    {
     "data": {
      "text/plain": [
       "<tensorflow.python.framework.ops.Graph at 0x7fa282b382e8>"
      ]
     },
     "execution_count": 14,
     "metadata": {},
     "output_type": "execute_result"
    }
   ],
   "source": [
    "tf.get_default_graph()"
   ]
  },
  {
   "cell_type": "code",
   "execution_count": 15,
   "metadata": {
    "ExecuteTime": {
     "end_time": "2018-10-07T00:18:58.592775Z",
     "start_time": "2018-10-07T00:18:58.589498Z"
    }
   },
   "outputs": [
    {
     "data": {
      "text/plain": [
       "<tensorflow.python.framework.ops.Graph at 0x7fa282b382e8>"
      ]
     },
     "execution_count": 15,
     "metadata": {},
     "output_type": "execute_result"
    }
   ],
   "source": [
    "x.graph"
   ]
  },
  {
   "cell_type": "code",
   "execution_count": 16,
   "metadata": {
    "ExecuteTime": {
     "end_time": "2018-10-07T00:18:58.598530Z",
     "start_time": "2018-10-07T00:18:58.594675Z"
    }
   },
   "outputs": [
    {
     "data": {
      "text/plain": [
       "<tensorflow.python.framework.ops.Graph at 0x7fa282b382e8>"
      ]
     },
     "execution_count": 16,
     "metadata": {},
     "output_type": "execute_result"
    }
   ],
   "source": [
    "y.graph"
   ]
  },
  {
   "cell_type": "code",
   "execution_count": 17,
   "metadata": {
    "ExecuteTime": {
     "end_time": "2018-10-07T00:18:58.603772Z",
     "start_time": "2018-10-07T00:18:58.600442Z"
    }
   },
   "outputs": [
    {
     "data": {
      "text/plain": [
       "<tensorflow.python.framework.ops.Graph at 0x7fa282b382e8>"
      ]
     },
     "execution_count": 17,
     "metadata": {},
     "output_type": "execute_result"
    }
   ],
   "source": [
    "f.graph"
   ]
  },
  {
   "cell_type": "markdown",
   "metadata": {
    "ExecuteTime": {
     "end_time": "2018-10-06T03:16:20.576300Z",
     "start_time": "2018-10-06T03:16:20.561302Z"
    }
   },
   "source": [
    "**Any node u create is automatically added to the default graph:**"
   ]
  },
  {
   "cell_type": "code",
   "execution_count": 18,
   "metadata": {
    "ExecuteTime": {
     "end_time": "2018-10-07T00:18:58.613666Z",
     "start_time": "2018-10-07T00:18:58.605989Z"
    },
    "collapsed": true
   },
   "outputs": [],
   "source": [
    "x1 = tf.Variable(1, name='x1')"
   ]
  },
  {
   "cell_type": "code",
   "execution_count": 19,
   "metadata": {
    "ExecuteTime": {
     "end_time": "2018-10-07T00:18:58.618637Z",
     "start_time": "2018-10-07T00:18:58.615300Z"
    }
   },
   "outputs": [
    {
     "data": {
      "text/plain": [
       "<tensorflow.python.framework.ops.Graph at 0x7fa282b382e8>"
      ]
     },
     "execution_count": 19,
     "metadata": {},
     "output_type": "execute_result"
    }
   ],
   "source": [
    "x1.graph"
   ]
  },
  {
   "cell_type": "code",
   "execution_count": 20,
   "metadata": {
    "ExecuteTime": {
     "end_time": "2018-10-07T00:18:58.624298Z",
     "start_time": "2018-10-07T00:18:58.620318Z"
    }
   },
   "outputs": [
    {
     "data": {
      "text/plain": [
       "True"
      ]
     },
     "execution_count": 20,
     "metadata": {},
     "output_type": "execute_result"
    }
   ],
   "source": [
    "x1.graph is tf.get_default_graph()"
   ]
  },
  {
   "cell_type": "markdown",
   "metadata": {},
   "source": [
    "Creating a new **Graph** and temporarily making it the default graph inside a `with` block. Thus, u can manage multiple independent graphs."
   ]
  },
  {
   "cell_type": "code",
   "execution_count": 21,
   "metadata": {
    "ExecuteTime": {
     "end_time": "2018-10-07T00:18:58.633915Z",
     "start_time": "2018-10-07T00:18:58.626187Z"
    },
    "collapsed": true
   },
   "outputs": [],
   "source": [
    "graph = tf.Graph()\n",
    "with graph.as_default():\n",
    "    x2 = tf.Variable(2, name='x2')"
   ]
  },
  {
   "cell_type": "code",
   "execution_count": 22,
   "metadata": {
    "ExecuteTime": {
     "end_time": "2018-10-07T00:18:58.638996Z",
     "start_time": "2018-10-07T00:18:58.635574Z"
    }
   },
   "outputs": [
    {
     "data": {
      "text/plain": [
       "<tensorflow.python.framework.ops.Graph at 0x7fa282b2de80>"
      ]
     },
     "execution_count": 22,
     "metadata": {},
     "output_type": "execute_result"
    }
   ],
   "source": [
    "x2.graph"
   ]
  },
  {
   "cell_type": "code",
   "execution_count": 23,
   "metadata": {
    "ExecuteTime": {
     "end_time": "2018-10-07T00:18:58.644397Z",
     "start_time": "2018-10-07T00:18:58.640693Z"
    }
   },
   "outputs": [
    {
     "data": {
      "text/plain": [
       "True"
      ]
     },
     "execution_count": 23,
     "metadata": {},
     "output_type": "execute_result"
    }
   ],
   "source": [
    "x2.graph is graph"
   ]
  },
  {
   "cell_type": "code",
   "execution_count": 24,
   "metadata": {
    "ExecuteTime": {
     "end_time": "2018-10-07T00:18:58.650671Z",
     "start_time": "2018-10-07T00:18:58.646125Z"
    }
   },
   "outputs": [
    {
     "data": {
      "text/plain": [
       "False"
      ]
     },
     "execution_count": 24,
     "metadata": {},
     "output_type": "execute_result"
    }
   ],
   "source": [
    "x2.graph is tf.get_default_graph()"
   ]
  },
  {
   "cell_type": "markdown",
   "metadata": {},
   "source": [
    "### Lifecycle of a Node Value"
   ]
  },
  {
   "cell_type": "markdown",
   "metadata": {},
   "source": [
    "When u evaluate a node, TF automatically determines the set of nodes that it depends on and it evaluates these nodes first."
   ]
  },
  {
   "cell_type": "code",
   "execution_count": 25,
   "metadata": {
    "ExecuteTime": {
     "end_time": "2018-10-07T00:18:58.662374Z",
     "start_time": "2018-10-07T00:18:58.652621Z"
    },
    "collapsed": true
   },
   "outputs": [],
   "source": [
    "# Define a simple graph\n",
    "w = tf.constant(3)\n",
    "x = w + 2\n",
    "y = x + 5\n",
    "z = x * 3"
   ]
  },
  {
   "cell_type": "code",
   "execution_count": 26,
   "metadata": {
    "ExecuteTime": {
     "end_time": "2018-10-07T00:18:58.677011Z",
     "start_time": "2018-10-07T00:18:58.664304Z"
    }
   },
   "outputs": [
    {
     "name": "stdout",
     "output_type": "stream",
     "text": [
      "10\n",
      "15\n"
     ]
    }
   ],
   "source": [
    "with tf.Session() as sess:\n",
    "    print(y.eval())\n",
    "    print(z.eval())"
   ]
  },
  {
   "cell_type": "markdown",
   "metadata": {
    "ExecuteTime": {
     "end_time": "2018-10-06T07:00:31.901798Z",
     "start_time": "2018-10-06T07:00:31.897399Z"
    }
   },
   "source": [
    "> 计算`y`时，TF自动探测到y取决于x，x取决于w，所以先计算w，再x，再y，然后返回y的值。然后，计算z，类似于计算y。  \n",
    "**前面的代码会两次计算`w`和`x`。**"
   ]
  },
  {
   "cell_type": "markdown",
   "metadata": {},
   "source": [
    "All node values are dropped between graph runs, except variable values, which are maintained by the session across graphs runs. A variable starts its life when its initializer is run, and it ends when the session is closed."
   ]
  },
  {
   "cell_type": "code",
   "execution_count": 27,
   "metadata": {
    "ExecuteTime": {
     "end_time": "2018-10-07T00:18:58.690471Z",
     "start_time": "2018-10-07T00:18:58.679562Z"
    }
   },
   "outputs": [
    {
     "name": "stdout",
     "output_type": "stream",
     "text": [
      "10\n",
      "15\n"
     ]
    }
   ],
   "source": [
    "with tf.Session() as sess:\n",
    "    y_val, z_val = sess.run([y, z])\n",
    "    print(y_val)\n",
    "    print(z_val)"
   ]
  },
  {
   "cell_type": "markdown",
   "metadata": {},
   "source": [
    "### Linear Regression with TF"
   ]
  },
  {
   "cell_type": "code",
   "execution_count": 28,
   "metadata": {
    "ExecuteTime": {
     "end_time": "2018-10-07T00:18:58.943545Z",
     "start_time": "2018-10-07T00:18:58.692832Z"
    }
   },
   "outputs": [],
   "source": [
    "import numpy as np\n",
    "from sklearn.datasets import fetch_california_housing\n",
    "\n",
    "housing = fetch_california_housing()\n",
    "m, n = housing.data.shape\n",
    "# add an extra bias input features (x0=1) to all training instances\n",
    "housing_data_plus_bias = np.c_[np.ones((m, 1)), housing.data]\n",
    "\n",
    "tf.reset_default_graph()\n",
    "\n",
    "X = tf.constant(housing_data_plus_bias, dtype=tf.float32, name='X')\n",
    "# y.shape -> (20640, 1)\n",
    "y = tf.constant(housing.target.reshape(-1, 1), dtype=tf.float32, name='y')\n",
    "XT = tf.transpose(X)\n",
    "theta = tf.matmul(tf.matmul(tf.matrix_inverse(tf.matmul(XT, X)), XT), y)\n",
    "\n",
    "with tf.Session() as sess:\n",
    "    theta_value = theta.eval()"
   ]
  },
  {
   "cell_type": "code",
   "execution_count": 29,
   "metadata": {
    "ExecuteTime": {
     "end_time": "2018-10-07T00:18:58.950114Z",
     "start_time": "2018-10-07T00:18:58.945924Z"
    }
   },
   "outputs": [
    {
     "data": {
      "text/plain": [
       "array([[-3.7185181e+01],\n",
       "       [ 4.3633747e-01],\n",
       "       [ 9.3952334e-03],\n",
       "       [-1.0711310e-01],\n",
       "       [ 6.4479220e-01],\n",
       "       [-4.0338000e-06],\n",
       "       [-3.7813708e-03],\n",
       "       [-4.2348403e-01],\n",
       "       [-4.3721911e-01]], dtype=float32)"
      ]
     },
     "execution_count": 29,
     "metadata": {},
     "output_type": "execute_result"
    }
   ],
   "source": [
    "theta_value"
   ]
  },
  {
   "cell_type": "code",
   "execution_count": 30,
   "metadata": {
    "ExecuteTime": {
     "end_time": "2018-10-07T00:18:58.996583Z",
     "start_time": "2018-10-07T00:18:58.952005Z"
    }
   },
   "outputs": [
    {
     "data": {
      "text/plain": [
       "LinearRegression(copy_X=True, fit_intercept=True, n_jobs=1, normalize=False)"
      ]
     },
     "execution_count": 30,
     "metadata": {},
     "output_type": "execute_result"
    }
   ],
   "source": [
    "from sklearn.linear_model import LinearRegression\n",
    "\n",
    "linear_reg = LinearRegression()\n",
    "linear_reg.fit(housing.data, housing.target.reshape(-1, 1))"
   ]
  },
  {
   "cell_type": "code",
   "execution_count": 31,
   "metadata": {
    "ExecuteTime": {
     "end_time": "2018-10-07T00:18:59.002572Z",
     "start_time": "2018-10-07T00:18:58.998456Z"
    }
   },
   "outputs": [
    {
     "data": {
      "text/plain": [
       "array([[ 4.36693293e-01,  9.43577803e-03, -1.07322041e-01,\n",
       "         6.45065694e-01, -3.97638942e-06, -3.78654265e-03,\n",
       "        -4.21314378e-01, -4.34513755e-01]])"
      ]
     },
     "execution_count": 31,
     "metadata": {},
     "output_type": "execute_result"
    }
   ],
   "source": [
    "linear_reg.coef_"
   ]
  },
  {
   "cell_type": "code",
   "execution_count": 32,
   "metadata": {
    "ExecuteTime": {
     "end_time": "2018-10-07T00:18:59.008540Z",
     "start_time": "2018-10-07T00:18:59.004721Z"
    }
   },
   "outputs": [
    {
     "data": {
      "text/plain": [
       "(1, 8)"
      ]
     },
     "execution_count": 32,
     "metadata": {},
     "output_type": "execute_result"
    }
   ],
   "source": [
    "linear_reg.coef_.shape"
   ]
  },
  {
   "cell_type": "code",
   "execution_count": 33,
   "metadata": {
    "ExecuteTime": {
     "end_time": "2018-10-07T00:18:59.014421Z",
     "start_time": "2018-10-07T00:18:59.010587Z"
    }
   },
   "outputs": [
    {
     "data": {
      "text/plain": [
       "array([-36.94192021])"
      ]
     },
     "execution_count": 33,
     "metadata": {},
     "output_type": "execute_result"
    }
   ],
   "source": [
    "linear_reg.intercept_"
   ]
  },
  {
   "cell_type": "code",
   "execution_count": 34,
   "metadata": {
    "ExecuteTime": {
     "end_time": "2018-10-07T00:18:59.021869Z",
     "start_time": "2018-10-07T00:18:59.016500Z"
    }
   },
   "outputs": [
    {
     "data": {
      "text/plain": [
       "array([[-3.69419202e+01],\n",
       "       [ 4.36693293e-01],\n",
       "       [ 9.43577803e-03],\n",
       "       [-1.07322041e-01],\n",
       "       [ 6.45065694e-01],\n",
       "       [-3.97638942e-06],\n",
       "       [-3.78654265e-03],\n",
       "       [-4.21314378e-01],\n",
       "       [-4.34513755e-01]])"
      ]
     },
     "execution_count": 34,
     "metadata": {},
     "output_type": "execute_result"
    }
   ],
   "source": [
    "np.r_[linear_reg.intercept_.reshape(-1, 1),\n",
    "      linear_reg.coef_.reshape(-1, 1)]"
   ]
  },
  {
   "cell_type": "markdown",
   "metadata": {},
   "source": [
    "### Implementing Gradient Descent"
   ]
  },
  {
   "cell_type": "markdown",
   "metadata": {},
   "source": [
    "**try batch gradient descent:**\n",
    "1. do this by manually computing the gradients\n",
    "2. use TF's autodiff feature to let TF compute the gradients automatically\n",
    "3. use a couple of TF's out-of-the-box optimizers"
   ]
  },
  {
   "cell_type": "markdown",
   "metadata": {},
   "source": [
    "Gradient Descent requires scaling the feature vectors first, or else training may be much slower."
   ]
  },
  {
   "cell_type": "code",
   "execution_count": 35,
   "metadata": {
    "ExecuteTime": {
     "end_time": "2018-10-07T00:18:59.032587Z",
     "start_time": "2018-10-07T00:18:59.024008Z"
    },
    "collapsed": true
   },
   "outputs": [],
   "source": [
    "from sklearn.preprocessing import StandardScaler\n",
    "\n",
    "scaler = StandardScaler()\n",
    "housing_data_scaled = scaler.fit_transform(housing.data)\n",
    "housing_data_scaled_plus_bias = np.c_[np.ones((m, 1)), housing_data_scaled]"
   ]
  },
  {
   "cell_type": "code",
   "execution_count": 36,
   "metadata": {
    "ExecuteTime": {
     "end_time": "2018-10-07T00:18:59.891091Z",
     "start_time": "2018-10-07T00:18:59.034442Z"
    }
   },
   "outputs": [
    {
     "name": "stdout",
     "output_type": "stream",
     "text": [
      "Epoch 0 MSE= 4.3689637\n",
      "Epoch 100 MSE= 0.75718355\n",
      "Epoch 200 MSE= 0.65957433\n",
      "Epoch 300 MSE= 0.62082267\n",
      "Epoch 400 MSE= 0.59392995\n",
      "Epoch 500 MSE= 0.57457775\n",
      "Epoch 600 MSE= 0.56061375\n",
      "Epoch 700 MSE= 0.5505346\n",
      "Epoch 800 MSE= 0.5432585\n",
      "Epoch 900 MSE= 0.53800523\n"
     ]
    }
   ],
   "source": [
    "tf.reset_default_graph()\n",
    "\n",
    "n_epochs = 1000\n",
    "learning_rate = 0.01\n",
    "\n",
    "X = tf.constant(housing_data_scaled_plus_bias, dtype=tf.float32, name='X')\n",
    "y = tf.constant(housing.target.reshape(-1, 1), dtype=tf.float32, name='y')\n",
    "theta = tf.Variable(tf.random_uniform((n+1, 1), -1.0, 1.0), name='theta')\n",
    "y_pred = tf.matmul(X, theta, name='prediction')\n",
    "error = y_pred - y\n",
    "mse = tf.reduce_mean(tf.square(error), name='mse')\n",
    "gradients = 2 / m * tf.matmul(tf.transpose(X), error)\n",
    "training_op = tf.assign(theta, theta - gradients * learning_rate)\n",
    "\n",
    "init = tf.global_variables_initializer()\n",
    "\n",
    "with tf.Session() as sess:\n",
    "    sess.run(init)\n",
    "\n",
    "    for epoch in range(n_epochs):\n",
    "        if epoch % 100 == 0:\n",
    "            print('Epoch', epoch, 'MSE=', mse.eval())\n",
    "        sess.run(training_op)\n",
    "    best_theta = theta.eval()"
   ]
  },
  {
   "cell_type": "code",
   "execution_count": 37,
   "metadata": {
    "ExecuteTime": {
     "end_time": "2018-10-07T00:18:59.897816Z",
     "start_time": "2018-10-07T00:18:59.893113Z"
    }
   },
   "outputs": [
    {
     "data": {
      "text/plain": [
       "array([[ 2.0685523 ],\n",
       "       [ 0.75722736],\n",
       "       [ 0.1441723 ],\n",
       "       [-0.05582196],\n",
       "       [ 0.10021524],\n",
       "       [ 0.00568478],\n",
       "       [-0.03993324],\n",
       "       [-0.78256166],\n",
       "       [-0.7412634 ]], dtype=float32)"
      ]
     },
     "execution_count": 37,
     "metadata": {},
     "output_type": "execute_result"
    }
   ],
   "source": [
    "best_theta"
   ]
  },
  {
   "cell_type": "markdown",
   "metadata": {},
   "source": [
    "### Using autodiff"
   ]
  },
  {
   "cell_type": "markdown",
   "metadata": {},
   "source": [
    "**TF's autodiff** feature automatically and effectively compute the gradients.\n",
    "\n",
    "`tf.gradients()`function takes an op and a list of variables, and it creates a list of ops (one per variable) to compute the gradients of the op with regard to each variable."
   ]
  },
  {
   "cell_type": "code",
   "execution_count": 38,
   "metadata": {
    "ExecuteTime": {
     "end_time": "2018-10-07T00:18:59.936637Z",
     "start_time": "2018-10-07T00:18:59.899970Z"
    },
    "collapsed": true
   },
   "outputs": [],
   "source": [
    "tf.reset_default_graph()\n",
    "\n",
    "n_epochs = 1000\n",
    "learning_rate = 0.01\n",
    "\n",
    "X = tf.constant(housing_data_scaled_plus_bias, dtype=tf.float32, name='X')\n",
    "y = tf.constant(housing.target.reshape(-1, 1), dtype=tf.float32, name='y')\n",
    "theta = tf.Variable(tf.random_uniform((n+1, 1), -1.0, 1.0, seed=42), name='theta')\n",
    "y_pred = tf.matmul(X, theta, name='prediction')\n",
    "error = y_pred - y\n",
    "mse = tf.reduce_mean(tf.square(error), name='mse')"
   ]
  },
  {
   "cell_type": "code",
   "execution_count": 39,
   "metadata": {
    "ExecuteTime": {
     "end_time": "2018-10-07T00:19:00.015088Z",
     "start_time": "2018-10-07T00:18:59.938754Z"
    },
    "collapsed": true
   },
   "outputs": [],
   "source": [
    "gradients = tf.gradients(mse, [theta])[0]"
   ]
  },
  {
   "cell_type": "code",
   "execution_count": 40,
   "metadata": {
    "ExecuteTime": {
     "end_time": "2018-10-07T00:19:00.040996Z",
     "start_time": "2018-10-07T00:19:00.016713Z"
    }
   },
   "outputs": [
    {
     "data": {
      "text/plain": [
       "[<tf.Tensor 'gradients_1/prediction_grad/MatMul_1:0' shape=(9, 1) dtype=float32>]"
      ]
     },
     "execution_count": 40,
     "metadata": {},
     "output_type": "execute_result"
    }
   ],
   "source": [
    "tf.gradients(mse, [theta])"
   ]
  },
  {
   "cell_type": "code",
   "execution_count": 41,
   "metadata": {
    "ExecuteTime": {
     "end_time": "2018-10-07T00:19:00.047986Z",
     "start_time": "2018-10-07T00:19:00.043202Z"
    }
   },
   "outputs": [
    {
     "data": {
      "text/plain": [
       "TensorShape([Dimension(9), Dimension(1)])"
      ]
     },
     "execution_count": 41,
     "metadata": {},
     "output_type": "execute_result"
    }
   ],
   "source": [
    "gradients.shape"
   ]
  },
  {
   "cell_type": "code",
   "execution_count": 42,
   "metadata": {
    "ExecuteTime": {
     "end_time": "2018-10-07T00:19:00.641222Z",
     "start_time": "2018-10-07T00:19:00.050480Z"
    },
    "code_folding": []
   },
   "outputs": [
    {
     "name": "stdout",
     "output_type": "stream",
     "text": [
      "Epoch 0 MSE= 2.7544262\n",
      "Epoch 100 MSE= 0.6322219\n",
      "Epoch 200 MSE= 0.5727803\n",
      "Epoch 300 MSE= 0.5585008\n",
      "Epoch 400 MSE= 0.54907\n",
      "Epoch 500 MSE= 0.54228795\n",
      "Epoch 600 MSE= 0.5373791\n",
      "Epoch 700 MSE= 0.53382194\n",
      "Epoch 800 MSE= 0.5312425\n",
      "Epoch 900 MSE= 0.5293705\n",
      "Best theta:\n",
      "[[ 2.06855226e+00]\n",
      " [ 7.74078071e-01]\n",
      " [ 1.31192386e-01]\n",
      " [-1.17845066e-01]\n",
      " [ 1.64778143e-01]\n",
      " [ 7.44077959e-04]\n",
      " [-3.91945131e-02]\n",
      " [-8.61356676e-01]\n",
      " [-8.23479772e-01]]\n"
     ]
    }
   ],
   "source": [
    "training_op = tf.assign(theta, theta - gradients * learning_rate)\n",
    "\n",
    "init = tf.global_variables_initializer()\n",
    "\n",
    "with tf.Session() as sess:\n",
    "    sess.run(init)\n",
    "\n",
    "    for epoch in range(n_epochs):\n",
    "        if epoch % 100 == 0:\n",
    "            print('Epoch', epoch, 'MSE=', mse.eval())\n",
    "        sess.run(training_op)\n",
    "    best_theta = theta.eval()\n",
    "\n",
    "print('Best theta:')\n",
    "print(best_theta)"
   ]
  },
  {
   "cell_type": "markdown",
   "metadata": {},
   "source": [
    "### Using an optimizer"
   ]
  },
  {
   "cell_type": "code",
   "execution_count": 43,
   "metadata": {
    "ExecuteTime": {
     "end_time": "2018-10-07T00:19:00.674011Z",
     "start_time": "2018-10-07T00:19:00.643553Z"
    },
    "collapsed": true
   },
   "outputs": [],
   "source": [
    "tf.reset_default_graph()\n",
    "\n",
    "n_epochs = 1000\n",
    "learning_rate = 0.01\n",
    "\n",
    "X = tf.constant(housing_data_scaled_plus_bias, dtype=tf.float32, name='X')\n",
    "y = tf.constant(housing.target.reshape(-1, 1), dtype=tf.float32, name='y')\n",
    "theta = tf.Variable(tf.random_uniform((n + 1, 1), -1., 1., seed=42), name='theta')\n",
    "y_pred = tf.matmul(X, theta, name='prediction')\n",
    "error = y_pred - y\n",
    "mse = tf.reduce_mean(tf.square(error), name='mse')"
   ]
  },
  {
   "cell_type": "code",
   "execution_count": 44,
   "metadata": {
    "ExecuteTime": {
     "end_time": "2018-10-07T00:19:00.699644Z",
     "start_time": "2018-10-07T00:19:00.676294Z"
    },
    "collapsed": true
   },
   "outputs": [],
   "source": [
    "optimizer = tf.train.GradientDescentOptimizer(learning_rate=learning_rate)\n",
    "training_op = optimizer.minimize(mse)"
   ]
  },
  {
   "cell_type": "code",
   "execution_count": 45,
   "metadata": {
    "ExecuteTime": {
     "end_time": "2018-10-07T00:19:01.211687Z",
     "start_time": "2018-10-07T00:19:00.701151Z"
    }
   },
   "outputs": [
    {
     "name": "stdout",
     "output_type": "stream",
     "text": [
      "Epoch 0 MSE= 2.7544262\n",
      "Epoch 100 MSE= 0.63222194\n",
      "Epoch 200 MSE= 0.5727803\n",
      "Epoch 300 MSE= 0.5585008\n",
      "Epoch 400 MSE= 0.54907\n",
      "Epoch 500 MSE= 0.54228795\n",
      "Epoch 600 MSE= 0.5373791\n",
      "Epoch 700 MSE= 0.53382194\n",
      "Epoch 800 MSE= 0.5312425\n",
      "Epoch 900 MSE= 0.5293705\n",
      "Best theta:\n",
      "[[ 2.06855226e+00]\n",
      " [ 7.74078071e-01]\n",
      " [ 1.31192386e-01]\n",
      " [-1.17845066e-01]\n",
      " [ 1.64778143e-01]\n",
      " [ 7.44078017e-04]\n",
      " [-3.91945131e-02]\n",
      " [-8.61356676e-01]\n",
      " [-8.23479772e-01]]\n"
     ]
    }
   ],
   "source": [
    "init = tf.global_variables_initializer()\n",
    "\n",
    "with tf.Session() as sess:\n",
    "    sess.run(init)\n",
    "    \n",
    "    for epoch in range(n_epochs):\n",
    "        if epoch % 100 == 0:\n",
    "            print('Epoch', epoch, 'MSE=', mse.eval())\n",
    "        sess.run(training_op)\n",
    "    best_theta = theta.eval()\n",
    "\n",
    "print('Best theta:')\n",
    "print(best_theta)"
   ]
  },
  {
   "cell_type": "markdown",
   "metadata": {},
   "source": [
    "### Using a momentum optimizer"
   ]
  },
  {
   "cell_type": "markdown",
   "metadata": {},
   "source": [
    "The momentum optimizer often converges much faster than Gradient Descent."
   ]
  },
  {
   "cell_type": "code",
   "execution_count": 46,
   "metadata": {
    "ExecuteTime": {
     "end_time": "2018-10-07T00:19:01.238075Z",
     "start_time": "2018-10-07T00:19:01.213564Z"
    },
    "collapsed": true
   },
   "outputs": [],
   "source": [
    "tf.reset_default_graph()\n",
    "\n",
    "n_epochs = 1000\n",
    "learning_rate = 0.01\n",
    "\n",
    "X = tf.constant(housing_data_scaled_plus_bias, dtype=tf.float32, name='X')\n",
    "y = tf.constant(housing.target.reshape(-1, 1), dtype=tf.float32, name='y')\n",
    "theta = tf.Variable(tf.random_uniform((n + 1, 1), -1., 1., seed=42), name='theta')\n",
    "y_pred = tf.matmul(X, theta, name='prediction')\n",
    "error = y_pred - y\n",
    "mse = tf.reduce_mean(tf.square(error), name='mse')"
   ]
  },
  {
   "cell_type": "code",
   "execution_count": 47,
   "metadata": {
    "ExecuteTime": {
     "end_time": "2018-10-07T00:19:01.288019Z",
     "start_time": "2018-10-07T00:19:01.240223Z"
    },
    "collapsed": true
   },
   "outputs": [],
   "source": [
    "optimizer = tf.train.MomentumOptimizer(learning_rate=learning_rate,\n",
    "                                       momentum=0.9)\n",
    "training_op = optimizer.minimize(mse)"
   ]
  },
  {
   "cell_type": "code",
   "execution_count": 48,
   "metadata": {
    "ExecuteTime": {
     "end_time": "2018-10-07T00:19:01.817636Z",
     "start_time": "2018-10-07T00:19:01.290872Z"
    }
   },
   "outputs": [
    {
     "name": "stdout",
     "output_type": "stream",
     "text": [
      "Epoch 0 MSE= 2.7544262\n",
      "Epoch 100 MSE= 0.5273161\n",
      "Epoch 200 MSE= 0.5244147\n",
      "Epoch 300 MSE= 0.5243281\n",
      "Epoch 400 MSE= 0.5243218\n",
      "Epoch 500 MSE= 0.52432114\n",
      "Epoch 600 MSE= 0.524321\n",
      "Epoch 700 MSE= 0.524321\n",
      "Epoch 800 MSE= 0.524321\n",
      "Epoch 900 MSE= 0.52432096\n",
      "Best theta:\n",
      "[[ 2.068558  ]\n",
      " [ 0.82961667]\n",
      " [ 0.11875114]\n",
      " [-0.265522  ]\n",
      " [ 0.30569217]\n",
      " [-0.00450316]\n",
      " [-0.03932617]\n",
      " [-0.89989185]\n",
      " [-0.87054676]]\n"
     ]
    }
   ],
   "source": [
    "init = tf.global_variables_initializer()\n",
    "\n",
    "with tf.Session() as sess:\n",
    "    sess.run(init)\n",
    "    \n",
    "    for epoch in range(n_epochs):\n",
    "        if epoch % 100 == 0:\n",
    "            print('Epoch', epoch, 'MSE=', mse.eval())\n",
    "        sess.run(training_op)\n",
    "    best_theta = theta.eval()\n",
    "\n",
    "print('Best theta:')\n",
    "print(best_theta)"
   ]
  },
  {
   "cell_type": "markdown",
   "metadata": {},
   "source": [
    "### Feeding data to the training algorithm"
   ]
  },
  {
   "cell_type": "markdown",
   "metadata": {},
   "source": [
    "#### Placeholder nodes"
   ]
  },
  {
   "cell_type": "markdown",
   "metadata": {},
   "source": [
    "**Placeholder nodes** are special because they don't perform any computation, they just output the data u tell them to output at runtime. They are typically used to pass the training data to TF during training. If u dont't specify a value at runtime for a placeholder, u get an exception."
   ]
  },
  {
   "cell_type": "code",
   "execution_count": 49,
   "metadata": {
    "ExecuteTime": {
     "end_time": "2018-10-07T00:19:01.826419Z",
     "start_time": "2018-10-07T00:19:01.819654Z"
    },
    "collapsed": true
   },
   "outputs": [],
   "source": [
    "A = tf.placeholder(tf.float32, shape=(None, 3))\n",
    "B = A + 5"
   ]
  },
  {
   "cell_type": "code",
   "execution_count": 50,
   "metadata": {
    "ExecuteTime": {
     "end_time": "2018-10-07T00:19:01.831030Z",
     "start_time": "2018-10-07T00:19:01.827923Z"
    }
   },
   "outputs": [
    {
     "data": {
      "text/plain": [
       "tensorflow.python.framework.ops.Tensor"
      ]
     },
     "execution_count": 50,
     "metadata": {},
     "output_type": "execute_result"
    }
   ],
   "source": [
    "type(A)"
   ]
  },
  {
   "cell_type": "code",
   "execution_count": 51,
   "metadata": {
    "ExecuteTime": {
     "end_time": "2018-10-07T00:19:01.842711Z",
     "start_time": "2018-10-07T00:19:01.832398Z"
    },
    "collapsed": true
   },
   "outputs": [],
   "source": [
    "with tf.Session() as sess:\n",
    "    B_val_1 = B.eval(feed_dict={A: [[1, 2, 3]]})\n",
    "    B_val_2 = B.eval(feed_dict={A: [[1, 2, 3], [7, 8, 9]]})"
   ]
  },
  {
   "cell_type": "code",
   "execution_count": 52,
   "metadata": {
    "ExecuteTime": {
     "end_time": "2018-10-07T00:19:01.850638Z",
     "start_time": "2018-10-07T00:19:01.845446Z"
    }
   },
   "outputs": [
    {
     "data": {
      "text/plain": [
       "array([[6., 7., 8.]], dtype=float32)"
      ]
     },
     "execution_count": 52,
     "metadata": {},
     "output_type": "execute_result"
    }
   ],
   "source": [
    "B_val_1"
   ]
  },
  {
   "cell_type": "code",
   "execution_count": 53,
   "metadata": {
    "ExecuteTime": {
     "end_time": "2018-10-07T00:19:01.859709Z",
     "start_time": "2018-10-07T00:19:01.853496Z"
    }
   },
   "outputs": [
    {
     "data": {
      "text/plain": [
       "array([[ 6.,  7.,  8.],\n",
       "       [12., 13., 14.]], dtype=float32)"
      ]
     },
     "execution_count": 53,
     "metadata": {},
     "output_type": "execute_result"
    }
   ],
   "source": [
    "B_val_2"
   ]
  },
  {
   "cell_type": "markdown",
   "metadata": {},
   "source": [
    "#### Mini-Batch Gradient Descent"
   ]
  },
  {
   "cell_type": "code",
   "execution_count": 54,
   "metadata": {
    "ExecuteTime": {
     "end_time": "2018-10-07T00:19:01.867354Z",
     "start_time": "2018-10-07T00:19:01.862407Z"
    },
    "collapsed": true
   },
   "outputs": [],
   "source": [
    "n_epochs = 1000\n",
    "learning_rate = 0.01"
   ]
  },
  {
   "cell_type": "code",
   "execution_count": 55,
   "metadata": {
    "ExecuteTime": {
     "end_time": "2018-10-07T00:19:01.876979Z",
     "start_time": "2018-10-07T00:19:01.870333Z"
    },
    "collapsed": true
   },
   "outputs": [],
   "source": [
    "tf.reset_default_graph()\n",
    "\n",
    "X = tf.placeholder(tf.float32, shape=(None, n+1), name='X')\n",
    "y = tf.placeholder(tf.float32, shape=(None, 1), name='y')"
   ]
  },
  {
   "cell_type": "code",
   "execution_count": 56,
   "metadata": {
    "ExecuteTime": {
     "end_time": "2018-10-07T00:19:01.939141Z",
     "start_time": "2018-10-07T00:19:01.878906Z"
    },
    "collapsed": true
   },
   "outputs": [],
   "source": [
    "theta = tf.Variable(tf.random_uniform((n+1, 1), -1., 1., seed=42), name='theta')\n",
    "y_pred = tf.matmul(X, theta, name='prediction')\n",
    "error = y_pred - y\n",
    "mse = tf.reduce_mean(tf.square(error), name='mse')\n",
    "\n",
    "optimizer = tf.train.GradientDescentOptimizer(learning_rate=learning_rate)\n",
    "training_op = optimizer.minimize(mse)\n",
    "\n",
    "init = tf.global_variables_initializer()"
   ]
  },
  {
   "cell_type": "code",
   "execution_count": 57,
   "metadata": {
    "ExecuteTime": {
     "end_time": "2018-10-07T00:19:01.947006Z",
     "start_time": "2018-10-07T00:19:01.942476Z"
    },
    "collapsed": true
   },
   "outputs": [],
   "source": [
    "n_epochs = 10"
   ]
  },
  {
   "cell_type": "code",
   "execution_count": 58,
   "metadata": {
    "ExecuteTime": {
     "end_time": "2018-10-07T00:19:01.955294Z",
     "start_time": "2018-10-07T00:19:01.950562Z"
    },
    "collapsed": true
   },
   "outputs": [],
   "source": [
    "# Define the batch size and compute the total number of batches:\n",
    "batch_size = 100\n",
    "n_batches = int(np.ceil(m / batch_size))"
   ]
  },
  {
   "cell_type": "markdown",
   "metadata": {},
   "source": [
    "In the execution phase, fetch the mini-batches one by one, then provide the value of `X` and `y` via the feed_dict param when evaluating a node that depends on either of them."
   ]
  },
  {
   "cell_type": "code",
   "execution_count": 59,
   "metadata": {
    "ExecuteTime": {
     "end_time": "2018-10-07T00:19:03.244984Z",
     "start_time": "2018-10-07T00:19:01.958416Z"
    },
    "collapsed": true
   },
   "outputs": [],
   "source": [
    "def fetch_batch(epoch, batch_index, batch_size):\n",
    "    np.random.seed(epoch * n_batches + batch_index)\n",
    "    indices = np.random.randint(m, size=batch_size)\n",
    "    X_batch = housing_data_scaled_plus_bias[indices]\n",
    "    y_batch = housing.target.reshape(-1, 1)[indices]\n",
    "    return X_batch, y_batch\n",
    "\n",
    "with tf.Session() as sess:\n",
    "    sess.run(init)\n",
    "    \n",
    "    for epcoh in range(n_epochs):\n",
    "        for batch_index in range(n_batches):\n",
    "            X_batch, y_batch = fetch_batch(epoch, batch_index, batch_size)\n",
    "            sess.run(training_op, feed_dict={X: X_batch, y: y_batch})\n",
    "    best_theta = theta.eval()"
   ]
  },
  {
   "cell_type": "code",
   "execution_count": 60,
   "metadata": {
    "ExecuteTime": {
     "end_time": "2018-10-07T00:19:03.251622Z",
     "start_time": "2018-10-07T00:19:03.246537Z"
    }
   },
   "outputs": [
    {
     "data": {
      "text/plain": [
       "array([[ 1.2565614e+00],\n",
       "       [-4.5977593e-03],\n",
       "       [-2.9244909e-01],\n",
       "       [ 1.5032510e-01],\n",
       "       [-5.1998848e-01],\n",
       "       [ 3.0148393e-01],\n",
       "       [-6.9579689e+01],\n",
       "       [-1.5456535e+00],\n",
       "       [-5.6844789e-01]], dtype=float32)"
      ]
     },
     "execution_count": 60,
     "metadata": {},
     "output_type": "execute_result"
    }
   ],
   "source": [
    "best_theta"
   ]
  },
  {
   "cell_type": "markdown",
   "metadata": {},
   "source": [
    "### Saving and restoring models"
   ]
  },
  {
   "cell_type": "markdown",
   "metadata": {
    "ExecuteTime": {
     "end_time": "2018-10-06T13:20:06.280572Z",
     "start_time": "2018-10-06T13:20:06.268347Z"
    }
   },
   "source": [
    "+ save"
   ]
  },
  {
   "cell_type": "markdown",
   "metadata": {},
   "source": [
    "Just creates a `Saver` node at the end of the construction phase (after all variables nodes are created); then, in the execution phase, just call its `save()` method whenever u want to save the model, passing it the session and path of the checkpoint file:"
   ]
  },
  {
   "cell_type": "code",
   "execution_count": 61,
   "metadata": {
    "ExecuteTime": {
     "end_time": "2018-10-07T00:19:03.894296Z",
     "start_time": "2018-10-07T00:19:03.253690Z"
    },
    "collapsed": true
   },
   "outputs": [],
   "source": [
    "n_epochs = 1000\n",
    "learning_rate = 0.01\n",
    "\n",
    "tf.reset_default_graph()\n",
    "\n",
    "X = tf.constant(housing_data_scaled_plus_bias, dtype=tf.float32, name='X')\n",
    "y = tf.constant(housing.target.reshape(-1, 1), dtype=tf.float32, name='y')\n",
    "\n",
    "theta = tf.Variable(tf.random_uniform((n+1, 1), -1., 1., seed=42), name='theta')\n",
    "y_pred = tf.matmul(X, theta, name='prediction')\n",
    "error = y_pred - y\n",
    "mse = tf.reduce_mean(tf.square(error), name='mse')\n",
    "\n",
    "optimizer = tf.train.GradientDescentOptimizer(learning_rate=learning_rate)\n",
    "training_op = optimizer.minimize(mse)\n",
    "\n",
    "# Create a Saver\n",
    "saver = tf.train.Saver()\n",
    "\n",
    "init = tf.global_variables_initializer()\n",
    "\n",
    "with tf.Session() as sess:\n",
    "    sess.run(init)\n",
    "    \n",
    "    for epoch in range(n_epochs):\n",
    "        if epoch % 100 == 0:\n",
    "            # checkpoint every 100 epochs\n",
    "            save_path = saver.save(sess, '/home/bingli/Documents/my_model.ckpt')\n",
    "        sess.run(training_op)\n",
    "    best_theta = theta.eval()\n",
    "    save_path = saver.save(sess, '/home/bingli/Documents/my_model_final.ckpt')"
   ]
  },
  {
   "cell_type": "markdown",
   "metadata": {},
   "source": [
    "+ restore a model"
   ]
  },
  {
   "cell_type": "markdown",
   "metadata": {},
   "source": [
    "Create a `Saver` at the end of construction phase just like before, but then at the begining of the execution phase, instead of initializing the variables using the `init` node, u call the `restore()` method of the `Saver` object:"
   ]
  },
  {
   "cell_type": "code",
   "execution_count": 62,
   "metadata": {
    "ExecuteTime": {
     "end_time": "2018-10-07T00:19:03.916535Z",
     "start_time": "2018-10-07T00:19:03.895988Z"
    }
   },
   "outputs": [
    {
     "name": "stdout",
     "output_type": "stream",
     "text": [
      "INFO:tensorflow:Restoring parameters from /home/bingli/Documents/my_model_final.ckpt\n"
     ]
    }
   ],
   "source": [
    "with tf.Session() as sess:\n",
    "    saver.restore(sess, '/home/bingli/Documents/my_model_final.ckpt')\n",
    "    best_theta_restored = theta.eval()"
   ]
  },
  {
   "cell_type": "code",
   "execution_count": 63,
   "metadata": {
    "ExecuteTime": {
     "end_time": "2018-10-07T00:19:03.922528Z",
     "start_time": "2018-10-07T00:19:03.918340Z"
    }
   },
   "outputs": [
    {
     "data": {
      "text/plain": [
       "True"
      ]
     },
     "execution_count": 63,
     "metadata": {},
     "output_type": "execute_result"
    }
   ],
   "source": [
    "np.allclose(best_theta, best_theta_restored)"
   ]
  },
  {
   "cell_type": "markdown",
   "metadata": {},
   "source": [
    "By default, a `Saver` saves and restores all variables under their own name, but if u need more control, u can specify which variables to save or restore, and what names to use."
   ]
  },
  {
   "cell_type": "code",
   "execution_count": 64,
   "metadata": {
    "ExecuteTime": {
     "end_time": "2018-10-07T00:19:03.936214Z",
     "start_time": "2018-10-07T00:19:03.924548Z"
    },
    "collapsed": true
   },
   "outputs": [],
   "source": [
    "# save or restore only the theta variable under the name weights\n",
    "saver = tf.train.Saver({'weights': theta})"
   ]
  },
  {
   "cell_type": "markdown",
   "metadata": {},
   "source": [
    "By default, the Saver also saves the graph structure itself in a second file with the extension .meta. U can use the func `tf.train.import_meta_graph()` to restore the graph structure. This func loads the graph into the default graph and returns a Saver that can then be used to restore the graph state (i.e., the variabel values):"
   ]
  },
  {
   "cell_type": "code",
   "execution_count": 65,
   "metadata": {
    "ExecuteTime": {
     "end_time": "2018-10-07T00:19:03.974529Z",
     "start_time": "2018-10-07T00:19:03.938737Z"
    }
   },
   "outputs": [
    {
     "name": "stdout",
     "output_type": "stream",
     "text": [
      "INFO:tensorflow:Restoring parameters from /home/bingli/Documents/my_model_final.ckpt\n"
     ]
    }
   ],
   "source": [
    "tf.reset_default_graph()\n",
    "\n",
    "# Load the graph structure\n",
    "saver = tf.train.import_meta_graph('/home/bingli/Documents/my_model_final.ckpt.meta')\n",
    "theta = tf.get_default_graph().get_tensor_by_name('theta:0')\n",
    "\n",
    "with tf.Session() as sess:\n",
    "    # restores the graph's state\n",
    "    saver.restore(sess, '/home/bingli/Documents/my_model_final.ckpt')\n",
    "    best_theta_restored = theta.eval()"
   ]
  },
  {
   "cell_type": "code",
   "execution_count": 66,
   "metadata": {
    "ExecuteTime": {
     "end_time": "2018-10-07T00:19:03.981995Z",
     "start_time": "2018-10-07T00:19:03.977287Z"
    }
   },
   "outputs": [
    {
     "data": {
      "text/plain": [
       "True"
      ]
     },
     "execution_count": 66,
     "metadata": {},
     "output_type": "execute_result"
    }
   ],
   "source": [
    "np.allclose(best_theta, best_theta_restored)"
   ]
  },
  {
   "cell_type": "markdown",
   "metadata": {
    "collapsed": true
   },
   "source": [
    "### Visualizing the graph and training curves using TensorBoard"
   ]
  },
  {
   "cell_type": "code",
   "execution_count": 95,
   "metadata": {
    "ExecuteTime": {
     "end_time": "2018-10-07T00:57:15.924208Z",
     "start_time": "2018-10-07T00:57:15.912228Z"
    },
    "collapsed": true
   },
   "outputs": [],
   "source": [
    "from datetime import datetime\n",
    "\n",
    "now = datetime.utcnow().strftime('%Y%d%m%H%M%S')\n",
    "root_logdir = 'tf_logs'\n",
    "log_dir = '{}/run-{}/'.format(root_logdir, now)"
   ]
  },
  {
   "cell_type": "code",
   "execution_count": 96,
   "metadata": {
    "ExecuteTime": {
     "end_time": "2018-10-07T00:57:16.697715Z",
     "start_time": "2018-10-07T00:57:16.688920Z"
    }
   },
   "outputs": [
    {
     "data": {
      "text/plain": [
       "'20180710005715'"
      ]
     },
     "execution_count": 96,
     "metadata": {},
     "output_type": "execute_result"
    }
   ],
   "source": [
    "now"
   ]
  },
  {
   "cell_type": "code",
   "execution_count": 97,
   "metadata": {
    "ExecuteTime": {
     "end_time": "2018-10-07T00:57:17.705783Z",
     "start_time": "2018-10-07T00:57:17.644028Z"
    },
    "collapsed": true
   },
   "outputs": [],
   "source": [
    "n_epochs = 1000\n",
    "learning_rate = 0.01\n",
    "\n",
    "X = tf.placeholder(tf.float32, shape=(None, n + 1), name='X')\n",
    "y = tf.placeholder(tf.float32, shape=(None, 1), name='y')\n",
    "theta = tf.Variable(tf.random_uniform((n + 1, 1), -1., 1., seed=42), name='theta')\n",
    "y_pred = tf.matmul(X, theta, name='prediction')\n",
    "error = y_pred - y\n",
    "mse = tf.reduce_mean(tf.square(error), name='mse')\n",
    "\n",
    "optimizer = tf.train.GradientDescentOptimizer(learning_rate=learning_rate)\n",
    "training_op = optimizer.minimize(mse)\n",
    "\n",
    "init = tf.global_variables_initializer()"
   ]
  },
  {
   "cell_type": "code",
   "execution_count": 98,
   "metadata": {
    "ExecuteTime": {
     "end_time": "2018-10-07T00:57:18.510556Z",
     "start_time": "2018-10-07T00:57:18.460203Z"
    }
   },
   "outputs": [],
   "source": [
    "# Add the following code at the every end of the construction phase:\n",
    "mse_summary = tf.summary.scalar('MSE', mse)\n",
    "file_writer = tf.summary.FileWriter(log_dir, tf.get_default_graph())"
   ]
  },
  {
   "cell_type": "code",
   "execution_count": 99,
   "metadata": {
    "ExecuteTime": {
     "end_time": "2018-10-07T00:57:19.277037Z",
     "start_time": "2018-10-07T00:57:19.268936Z"
    },
    "collapsed": true
   },
   "outputs": [],
   "source": [
    "n_epochs = 10\n",
    "batch_size = 100\n",
    "n_batches = int(np.ceil(m / batch_size))"
   ]
  },
  {
   "cell_type": "code",
   "execution_count": 100,
   "metadata": {
    "ExecuteTime": {
     "end_time": "2018-10-07T00:57:21.546606Z",
     "start_time": "2018-10-07T00:57:20.179006Z"
    }
   },
   "outputs": [],
   "source": [
    "with tf.Session() as sess:\n",
    "    sess.run(init)\n",
    "\n",
    "    for epoch in range(n_epochs):\n",
    "        for batch_index in range(n_batches):\n",
    "            X_batch, y_batch = fetch_batch(epoch, batch_index, batch_size)\n",
    "            if batch_index % 10 == 0:\n",
    "                summary_str = mse_summary.eval(feed_dict={X: X_batch, y: y_batch})\n",
    "                step = epoch * n_batches + batch_index\n",
    "                file_writer.add_summary(summary_str, step)\n",
    "            sess.run(training_op, feed_dict={X: X_batch, y: y_batch})\n",
    "\n",
    "    best_theta = theta.eval()                                  "
   ]
  },
  {
   "cell_type": "code",
   "execution_count": 101,
   "metadata": {
    "ExecuteTime": {
     "end_time": "2018-10-07T00:57:22.438786Z",
     "start_time": "2018-10-07T00:57:22.433916Z"
    },
    "collapsed": true
   },
   "outputs": [],
   "source": [
    "# Close the FileWriter at the end of the program:\n",
    "file_writer.close()"
   ]
  },
  {
   "cell_type": "code",
   "execution_count": 102,
   "metadata": {
    "ExecuteTime": {
     "end_time": "2018-10-07T00:57:23.576456Z",
     "start_time": "2018-10-07T00:57:23.571708Z"
    }
   },
   "outputs": [
    {
     "data": {
      "text/plain": [
       "array([[ 2.070016  ],\n",
       "       [ 0.82045615],\n",
       "       [ 0.11731729],\n",
       "       [-0.22739057],\n",
       "       [ 0.31134027],\n",
       "       [ 0.00353193],\n",
       "       [-0.01126994],\n",
       "       [-0.91643935],\n",
       "       [-0.8795008 ]], dtype=float32)"
      ]
     },
     "execution_count": 102,
     "metadata": {},
     "output_type": "execute_result"
    }
   ],
   "source": [
    "best_theta"
   ]
  },
  {
   "cell_type": "markdown",
   "metadata": {},
   "source": [
    "### Name spaces"
   ]
  },
  {
   "cell_type": "code",
   "execution_count": 103,
   "metadata": {
    "ExecuteTime": {
     "end_time": "2018-10-07T02:14:49.586626Z",
     "start_time": "2018-10-07T02:14:49.568168Z"
    },
    "collapsed": true
   },
   "outputs": [],
   "source": [
    "tf.reset_default_graph()\n",
    "\n",
    "n_epochs = 1000\n",
    "learning_rate = .01\n",
    "\n",
    "X = tf.placeholder(tf.float32, shape=(None, n + 1), name='X')\n",
    "y = tf.placeholder(tf.float32, shape=(None, 1), name='y')\n",
    "theta = tf.Variable(tf.random_uniform((n + 1, 1), -1., 1., seed=42), name='theta')\n",
    "y_pred = tf.matmul(X, theta)"
   ]
  },
  {
   "cell_type": "code",
   "execution_count": 104,
   "metadata": {
    "ExecuteTime": {
     "end_time": "2018-10-07T02:15:30.038475Z",
     "start_time": "2018-10-07T02:15:30.030518Z"
    },
    "collapsed": true
   },
   "outputs": [],
   "source": [
    "with tf.name_scope('loss') as scope:\n",
    "    error = y_pred - y\n",
    "    mse = tf.reduce_mean(tf.square(error), name='mse')"
   ]
  },
  {
   "cell_type": "code",
   "execution_count": 105,
   "metadata": {
    "ExecuteTime": {
     "end_time": "2018-10-07T02:17:05.468387Z",
     "start_time": "2018-10-07T02:17:05.433854Z"
    },
    "collapsed": true
   },
   "outputs": [],
   "source": [
    "optimizer = tf.train.GradientDescentOptimizer(learning_rate=learning_rate)\n",
    "training_op = optimizer.minimize(mse)\n",
    "\n",
    "init = tf.global_variables_initializer()"
   ]
  },
  {
   "cell_type": "code",
   "execution_count": 106,
   "metadata": {
    "ExecuteTime": {
     "end_time": "2018-10-07T02:20:53.352062Z",
     "start_time": "2018-10-07T02:20:52.277222Z"
    },
    "collapsed": true
   },
   "outputs": [],
   "source": [
    "n_epochs = 10\n",
    "batch_size = 128\n",
    "n_batches = int(np.ceil(m / batch_size))\n",
    "\n",
    "with tf.Session() as sess:\n",
    "    sess.run(init)\n",
    "    \n",
    "    for epoch in range(n_epochs):\n",
    "        for batch_index in range(n_batches):\n",
    "            X_batch, y_batch = fetch_batch(epoch, batch_index, batch_size)\n",
    "            sess.run(training_op, feed_dict={X: X_batch, y: y_batch})\n",
    "    best_theta = theta.eval()"
   ]
  },
  {
   "cell_type": "code",
   "execution_count": 107,
   "metadata": {
    "ExecuteTime": {
     "end_time": "2018-10-07T02:20:54.783942Z",
     "start_time": "2018-10-07T02:20:54.772405Z"
    }
   },
   "outputs": [
    {
     "data": {
      "text/plain": [
       "array([[ 2.0665126 ],\n",
       "       [ 0.79504585],\n",
       "       [ 0.12075399],\n",
       "       [-0.18044767],\n",
       "       [ 0.28744942],\n",
       "       [-0.00723529],\n",
       "       [-0.04883513],\n",
       "       [-0.91034156],\n",
       "       [-0.8648144 ]], dtype=float32)"
      ]
     },
     "execution_count": 107,
     "metadata": {},
     "output_type": "execute_result"
    }
   ],
   "source": [
    "best_theta"
   ]
  },
  {
   "cell_type": "code",
   "execution_count": 109,
   "metadata": {
    "ExecuteTime": {
     "end_time": "2018-10-07T02:25:26.290184Z",
     "start_time": "2018-10-07T02:25:26.285310Z"
    }
   },
   "outputs": [
    {
     "data": {
      "text/plain": [
       "<tf.Tensor 'loss/sub:0' shape=(?, 1) dtype=float32>"
      ]
     },
     "execution_count": 109,
     "metadata": {},
     "output_type": "execute_result"
    }
   ],
   "source": [
    "error"
   ]
  },
  {
   "cell_type": "code",
   "execution_count": 108,
   "metadata": {
    "ExecuteTime": {
     "end_time": "2018-10-07T02:25:20.295400Z",
     "start_time": "2018-10-07T02:25:20.290819Z"
    }
   },
   "outputs": [
    {
     "data": {
      "text/plain": [
       "'loss/sub:0'"
      ]
     },
     "execution_count": 108,
     "metadata": {},
     "output_type": "execute_result"
    }
   ],
   "source": [
    "error.name"
   ]
  },
  {
   "cell_type": "markdown",
   "metadata": {},
   "source": [
    "The name of each op defined within the scope is now prefixed with 'loss/'."
   ]
  },
  {
   "cell_type": "code",
   "execution_count": 110,
   "metadata": {
    "ExecuteTime": {
     "end_time": "2018-10-07T02:25:37.039002Z",
     "start_time": "2018-10-07T02:25:37.033163Z"
    }
   },
   "outputs": [
    {
     "data": {
      "text/plain": [
       "'loss/sub'"
      ]
     },
     "execution_count": 110,
     "metadata": {},
     "output_type": "execute_result"
    }
   ],
   "source": [
    "error.op.name"
   ]
  },
  {
   "cell_type": "code",
   "execution_count": 111,
   "metadata": {
    "ExecuteTime": {
     "end_time": "2018-10-07T02:25:43.091625Z",
     "start_time": "2018-10-07T02:25:43.086080Z"
    }
   },
   "outputs": [
    {
     "data": {
      "text/plain": [
       "'loss/mse'"
      ]
     },
     "execution_count": 111,
     "metadata": {},
     "output_type": "execute_result"
    }
   ],
   "source": [
    "mse.op.name"
   ]
  },
  {
   "cell_type": "code",
   "execution_count": 113,
   "metadata": {
    "ExecuteTime": {
     "end_time": "2018-10-07T02:26:51.084176Z",
     "start_time": "2018-10-07T02:26:51.073202Z"
    }
   },
   "outputs": [
    {
     "data": {
      "text/plain": [
       "'MatMul'"
      ]
     },
     "execution_count": 113,
     "metadata": {},
     "output_type": "execute_result"
    }
   ],
   "source": [
    "y_pred.op.name"
   ]
  },
  {
   "cell_type": "code",
   "execution_count": 115,
   "metadata": {
    "ExecuteTime": {
     "end_time": "2018-10-07T02:42:59.636902Z",
     "start_time": "2018-10-07T02:42:59.610569Z"
    }
   },
   "outputs": [
    {
     "name": "stdout",
     "output_type": "stream",
     "text": [
      "a:0\n",
      "a_1:0\n",
      "param/a:0\n",
      "param_1/a:0\n"
     ]
    }
   ],
   "source": [
    "tf.reset_default_graph()\n",
    "\n",
    "a1 = tf.Variable(0, name='a')\n",
    "a2 = tf.Variable(0, name='a')\n",
    "\n",
    "with tf.name_scope('param'):\n",
    "    a3 = tf.Variable(0, name='a')\n",
    "\n",
    "with tf.name_scope('param'):\n",
    "    a4 = tf.Variable(0, name='a')\n",
    "\n",
    "for node in (a1, a2, a3, a4):\n",
    "    print(node.name)"
   ]
  },
  {
   "cell_type": "markdown",
   "metadata": {},
   "source": [
    "### Modularity"
   ]
  },
  {
   "cell_type": "markdown",
   "metadata": {},
   "source": [
    "Repeatitive code:"
   ]
  },
  {
   "cell_type": "code",
   "execution_count": 119,
   "metadata": {
    "ExecuteTime": {
     "end_time": "2018-10-07T02:52:41.029288Z",
     "start_time": "2018-10-07T02:52:40.975051Z"
    },
    "collapsed": true
   },
   "outputs": [],
   "source": [
    "tf.reset_default_graph()\n",
    "\n",
    "n_features = 3\n",
    "X = tf.placeholder(tf.float32, shape=(None, n_features), name='X')\n",
    "\n",
    "w1 = tf.Variable(tf.random_uniform((n_features, 1)), name='weights1')\n",
    "w2 = tf.Variable(tf.random_uniform((n_features, 1)), name='weights2')\n",
    "b1 = tf.Variable(0.0, name='bias1')\n",
    "b2 = tf.Variable(0.0, name='bias2')\n",
    "\n",
    "z1 = tf.add(tf.matmul(X, w1), b1, name='z1')\n",
    "z2 = tf.add(tf.matmul(X, w2), b2, name='z2')\n",
    "\n",
    "relu1 = tf.maximum(z1, 0., name='relu1')\n",
    "relu2 = tf.maximum(z2, 0., name='relu2')\n",
    "\n",
    "output = tf.add(relu1, relu2, name='output')"
   ]
  },
  {
   "cell_type": "markdown",
   "metadata": {},
   "source": [
    "Much better, using a function to build the ReLUs:"
   ]
  },
  {
   "cell_type": "code",
   "execution_count": 129,
   "metadata": {
    "ExecuteTime": {
     "end_time": "2018-10-07T03:10:58.729379Z",
     "start_time": "2018-10-07T03:10:58.721722Z"
    }
   },
   "outputs": [],
   "source": [
    "def relu(X):\n",
    "    w_shape = (int(X.get_shape()[1]), 1)\n",
    "    w = tf.Variable(tf.random_uniform(w_shape), name='weights')\n",
    "    b = tf.Variable(0.0, name='bias')\n",
    "    z = tf.add(tf.matmul(X, w), b, name='z')\n",
    "    return tf.maximum(z, 0., name='relu')"
   ]
  },
  {
   "cell_type": "code",
   "execution_count": 130,
   "metadata": {
    "ExecuteTime": {
     "end_time": "2018-10-07T03:10:59.343809Z",
     "start_time": "2018-10-07T03:10:59.259995Z"
    }
   },
   "outputs": [],
   "source": [
    "n_features = 3\n",
    "X = tf.placeholder(tf.float32, shape=(None, n_features), name='X')\n",
    "relus = [relu(X) for i in range(5)]\n",
    "outputs = tf.add_n(relus, name='output')"
   ]
  },
  {
   "cell_type": "code",
   "execution_count": 131,
   "metadata": {
    "ExecuteTime": {
     "end_time": "2018-10-07T03:10:59.800710Z",
     "start_time": "2018-10-07T03:10:59.796734Z"
    }
   },
   "outputs": [
    {
     "name": "stdout",
     "output_type": "stream",
     "text": [
      "relu_5:0\n",
      "relu_6:0\n",
      "relu_7:0\n",
      "relu_8:0\n",
      "relu_9:0\n"
     ]
    }
   ],
   "source": [
    "for relu in relus:\n",
    "    print(relu.name)"
   ]
  },
  {
   "cell_type": "markdown",
   "metadata": {},
   "source": [
    "Even better using name scopes:"
   ]
  },
  {
   "cell_type": "code",
   "execution_count": 132,
   "metadata": {
    "ExecuteTime": {
     "end_time": "2018-10-07T03:11:02.125163Z",
     "start_time": "2018-10-07T03:11:02.114895Z"
    },
    "collapsed": true
   },
   "outputs": [],
   "source": [
    "tf.reset_default_graph()\n",
    "\n",
    "def relu(X):\n",
    "    with tf.name_scope('relu'):\n",
    "        w_shape = (int(X.get_shape()[1]), 1)\n",
    "        w = tf.Variable(tf.random_uniform(w_shape), name='weights')\n",
    "        b = tf.Variable(0.0, name='bias')\n",
    "        z = tf.add(tf.matmul(X, w), b, name='z')\n",
    "        return tf.maximum(z, 0., name='max')"
   ]
  },
  {
   "cell_type": "code",
   "execution_count": 133,
   "metadata": {
    "ExecuteTime": {
     "end_time": "2018-10-07T03:11:02.772641Z",
     "start_time": "2018-10-07T03:11:02.698512Z"
    }
   },
   "outputs": [],
   "source": [
    "n_features = 3\n",
    "X = tf.placeholder(tf.float32, shape=(None, n_features), name='X')\n",
    "relus = [relu(X) for i in range(5)]\n",
    "outputs = tf.add_n(relus, name='output')"
   ]
  },
  {
   "cell_type": "code",
   "execution_count": 134,
   "metadata": {
    "ExecuteTime": {
     "end_time": "2018-10-07T03:11:03.341390Z",
     "start_time": "2018-10-07T03:11:03.330584Z"
    }
   },
   "outputs": [
    {
     "name": "stdout",
     "output_type": "stream",
     "text": [
      "relu/max:0\n",
      "relu_1/max:0\n",
      "relu_2/max:0\n",
      "relu_3/max:0\n",
      "relu_4/max:0\n"
     ]
    }
   ],
   "source": [
    "for relu in relus:\n",
    "    print(relu.name)"
   ]
  },
  {
   "cell_type": "markdown",
   "metadata": {},
   "source": [
    "### 共享变量"
   ]
  },
  {
   "cell_type": "markdown",
   "metadata": {},
   "source": [
    "想在图的不同组件中共享变量，最简单的的做法是先创建，然后将其作为参数传递给需要它的函数。"
   ]
  },
  {
   "cell_type": "markdown",
   "metadata": {},
   "source": [
    "通过一个共享的threshold变量来控制所有的ReLU的threshold。先创建这个变量，然后传给`relu`函数。"
   ]
  },
  {
   "cell_type": "code",
   "execution_count": 136,
   "metadata": {
    "ExecuteTime": {
     "end_time": "2018-10-08T01:33:40.411976Z",
     "start_time": "2018-10-08T01:33:40.334546Z"
    }
   },
   "outputs": [],
   "source": [
    "tf.reset_default_graph()\n",
    "\n",
    "\n",
    "def relu(X, threshold):\n",
    "    with tf.name_scope('relu'):\n",
    "        w_shape = (int(X.get_shape()[1]), 1)\n",
    "        w = tf.Variable(tf.random_uniform(w_shape), name='weights')\n",
    "        b = tf.Variable(0.0, name='bias')\n",
    "        z = tf.add(tf.matmul(X, w), b, name='z')\n",
    "        return tf.maximum(z, threshold, name='max')\n",
    "\n",
    "\n",
    "threshold = tf.Variable(0., name='threshold')\n",
    "X = tf.placeholder(tf.float32, shape=(None, n_features), name='X')\n",
    "relus = [relu(X, threshold) for i in range(5)]\n",
    "outputs = tf.add_n(relus, name='output')"
   ]
  },
  {
   "cell_type": "markdown",
   "metadata": {},
   "source": [
    "在第一次调用时将共享变量设置为`relu()`函数的一个属性："
   ]
  },
  {
   "cell_type": "code",
   "execution_count": 138,
   "metadata": {
    "ExecuteTime": {
     "end_time": "2018-10-08T01:39:06.731874Z",
     "start_time": "2018-10-08T01:39:06.567737Z"
    }
   },
   "outputs": [],
   "source": [
    "tf.reset_default_graph()\n",
    "\n",
    "\n",
    "def relu(X):\n",
    "    with tf.name_scope('relu'):\n",
    "        if not hasattr(relu, 'threshold'):\n",
    "            relu.threshold = tf.Variable(0., name='threshold')\n",
    "        w_shape = (int(X.get_shape()[1]), 1)\n",
    "        w = tf.Variable(tf.random_uniform(w_shape), name='weights')\n",
    "        b = tf.Variable(0.0, name='bias')\n",
    "        z = tf.add(tf.matmul(X, w), b, name='z')\n",
    "        return tf.maximum(z, relu.threshold, name='max')\n",
    "\n",
    "\n",
    "X = tf.placeholder(tf.float32, shape=(None, n_features), name='X')\n",
    "relus = [relu(X) for i in range(5)]\n",
    "outputs = tf.add_n(relus, name='output')"
   ]
  },
  {
   "cell_type": "markdown",
   "metadata": {},
   "source": [
    "TF中频繁使用的方法。如果一个变量不存在，该方法先通过`get_variable()`函数创建共享变量；如果已经存在了，就复用该共享变量。期望的行为通过当前`variable_scope()`的一个属性来控制（创建或使用）。"
   ]
  },
  {
   "cell_type": "code",
   "execution_count": 141,
   "metadata": {
    "ExecuteTime": {
     "end_time": "2018-10-08T01:57:31.549518Z",
     "start_time": "2018-10-08T01:57:31.538159Z"
    },
    "collapsed": true
   },
   "outputs": [],
   "source": [
    "tf.reset_default_graph()\n",
    "\n",
    "with tf.variable_scope('relu'):\n",
    "    threshold = tf.get_variable('threshold', shape=(),\n",
    "                                initializer=tf.constant_initializer(0.))"
   ]
  },
  {
   "cell_type": "markdown",
   "metadata": {},
   "source": [
    "> 创建一个名为'relu/threshold'的变量。`shape=()`，所以结果为一个变量，并且以0.0为初始值。"
   ]
  },
  {
   "cell_type": "code",
   "execution_count": 142,
   "metadata": {
    "ExecuteTime": {
     "end_time": "2018-10-08T01:57:32.270342Z",
     "start_time": "2018-10-08T01:57:32.266594Z"
    }
   },
   "outputs": [
    {
     "data": {
      "text/plain": [
       "'relu/threshold:0'"
      ]
     },
     "execution_count": 142,
     "metadata": {},
     "output_type": "execute_result"
    }
   ],
   "source": [
    "threshold.name"
   ]
  },
  {
   "cell_type": "markdown",
   "metadata": {},
   "source": [
    "如果这个变量之前已经被`get_variable()`调用创建过，这里会抛出一个异常。这种机制避免由于误操作而复用变量。\n",
    "\n",
    "如果要复用一个变量，需要通过设置变量作用域的`reuse`属性为`True`来显示实现。"
   ]
  },
  {
   "cell_type": "code",
   "execution_count": 143,
   "metadata": {
    "ExecuteTime": {
     "end_time": "2018-10-08T02:02:06.876925Z",
     "start_time": "2018-10-08T02:02:06.873545Z"
    },
    "collapsed": true
   },
   "outputs": [],
   "source": [
    "with tf.variable_scope('relu', reuse=True):\n",
    "    threshold = tf.get_variable('threshold')"
   ]
  },
  {
   "cell_type": "code",
   "execution_count": 144,
   "metadata": {
    "ExecuteTime": {
     "end_time": "2018-10-08T02:02:11.434182Z",
     "start_time": "2018-10-08T02:02:11.429869Z"
    }
   },
   "outputs": [
    {
     "data": {
      "text/plain": [
       "'relu/threshold:0'"
      ]
     },
     "execution_count": 144,
     "metadata": {},
     "output_type": "execute_result"
    }
   ],
   "source": [
    "threshold.name"
   ]
  },
  {
   "cell_type": "markdown",
   "metadata": {},
   "source": [
    "> 这段代码会获取既有的'relu/threshold'变量，如果该变量不存在，或者在调用`get_variable()`时没有创建成功，那么会抛出一个异常。\n",
    "\n",
    "另一个方式是，在调用作用域的`reuse_variables()`方法块中设置`reuse`为`True`。"
   ]
  },
  {
   "cell_type": "code",
   "execution_count": 145,
   "metadata": {
    "ExecuteTime": {
     "end_time": "2018-10-08T02:05:35.369366Z",
     "start_time": "2018-10-08T02:05:35.365079Z"
    },
    "collapsed": true
   },
   "outputs": [],
   "source": [
    "with tf.variable_scope('relu') as scope:\n",
    "    scope.reuse_variables()\n",
    "    threshold = tf.get_variable('threshold')"
   ]
  },
  {
   "cell_type": "code",
   "execution_count": 146,
   "metadata": {
    "ExecuteTime": {
     "end_time": "2018-10-08T02:05:39.793945Z",
     "start_time": "2018-10-08T02:05:39.789308Z"
    }
   },
   "outputs": [
    {
     "data": {
      "text/plain": [
       "'relu/threshold:0'"
      ]
     },
     "execution_count": 146,
     "metadata": {},
     "output_type": "execute_result"
    }
   ],
   "source": [
    "threshold.name"
   ]
  },
  {
   "cell_type": "code",
   "execution_count": 155,
   "metadata": {
    "ExecuteTime": {
     "end_time": "2018-10-08T05:17:00.378502Z",
     "start_time": "2018-10-08T05:17:00.291381Z"
    }
   },
   "outputs": [],
   "source": [
    "tf.reset_default_graph()\n",
    "\n",
    "\n",
    "def relu(X):\n",
    "    with tf.variable_scope('relu', reuse=True):\n",
    "        threshold = tf.get_variable('threshold')   # reuse existing variable\n",
    "        w_shape = (int(X.get_shape()[1]), 1)\n",
    "        w = tf.Variable(tf.random_uniform(w_shape), name='weights')\n",
    "        b = tf.Variable(0., name='bias')\n",
    "        z = tf.add(tf.matmul(X, w), b, name='z')\n",
    "        return tf.maximum(z, threshold, name='max')\n",
    "\n",
    "\n",
    "X = tf.placeholder(tf.float32, shape=(None, n_features), name='X')\n",
    "\n",
    "with tf.variable_scope('relu'):   # create the variable\n",
    "    threshold = tf.get_variable('threshold', shape=(),\n",
    "                                initializer=tf.constant_initializer(0.))\n",
    "relus = [relu(X) for relu_index in range(5)]\n",
    "outputs = tf.add_n(relus, name='outputs')"
   ]
  },
  {
   "cell_type": "markdown",
   "metadata": {},
   "source": [
    "> 这段代码首先定义了`relu()`函数，然后创建了`relu/threshold`变量（作为一个标量，会被初始化为0.0）并通过调用`relu()`函数构建了5个ReLU。`Relu()`函数复用了`relu/threshold`变量，并创建其他的ReLU节点。"
   ]
  },
  {
   "cell_type": "code",
   "execution_count": 156,
   "metadata": {
    "ExecuteTime": {
     "end_time": "2018-10-08T05:17:01.756310Z",
     "start_time": "2018-10-08T05:17:01.751590Z"
    }
   },
   "outputs": [
    {
     "name": "stdout",
     "output_type": "stream",
     "text": [
      "relu_1/max:0\n",
      "relu_2/max:0\n",
      "relu_3/max:0\n",
      "relu_4/max:0\n",
      "relu_5/max:0\n"
     ]
    }
   ],
   "source": [
    "for relu in relus:\n",
    "    print(relu.name)"
   ]
  },
  {
   "cell_type": "code",
   "execution_count": 158,
   "metadata": {
    "ExecuteTime": {
     "end_time": "2018-10-08T05:24:04.753482Z",
     "start_time": "2018-10-08T05:24:04.652883Z"
    }
   },
   "outputs": [],
   "source": [
    "tf.reset_default_graph()\n",
    "\n",
    "\n",
    "def relu(X):\n",
    "    threshold = tf.get_variable('threshold', shape=(),\n",
    "                                initializer=tf.constant_initializer(0.0))\n",
    "    w_shape = int(X.get_shape()[1]), 1\n",
    "    w = tf.Variable(tf.random_uniform(w_shape), name='weights')\n",
    "    b = tf.Variable(0., name='bias')\n",
    "    z = tf.add(tf.matmul(X, w), b, name='z')\n",
    "    return tf.maximum(z, threshold, name='max')\n",
    "\n",
    "\n",
    "X = tf.placeholder(tf.float32, shape=(None, n_features), name='X')\n",
    "\n",
    "relus = []\n",
    "for relu_index in range(5):\n",
    "    with tf.variable_scope('relu', reuse=(relu_index >= 1)) as scope:\n",
    "        relus.append(relu(X))\n",
    "\n",
    "outputs = tf.add_n(relus, name='output')"
   ]
  },
  {
   "cell_type": "code",
   "execution_count": 159,
   "metadata": {
    "ExecuteTime": {
     "end_time": "2018-10-08T05:24:15.717461Z",
     "start_time": "2018-10-08T05:24:15.712722Z"
    }
   },
   "outputs": [
    {
     "name": "stdout",
     "output_type": "stream",
     "text": [
      "relu/max:0\n",
      "relu_1/max:0\n",
      "relu_2/max:0\n",
      "relu_3/max:0\n",
      "relu_4/max:0\n"
     ]
    }
   ],
   "source": [
    "for relu in relus:\n",
    "    print(relu.name)"
   ]
  }
 ],
 "metadata": {
  "kernelspec": {
   "display_name": "Python [conda env:tf]",
   "language": "python",
   "name": "conda-env-tf-py"
  },
  "language_info": {
   "codemirror_mode": {
    "name": "ipython",
    "version": 3
   },
   "file_extension": ".py",
   "mimetype": "text/x-python",
   "name": "python",
   "nbconvert_exporter": "python",
   "pygments_lexer": "ipython3",
   "version": "3.6.2"
  },
  "toc": {
   "base_numbering": 1,
   "nav_menu": {},
   "number_sections": true,
   "sideBar": true,
   "skip_h1_title": false,
   "title_cell": "Table of Contents",
   "title_sidebar": "Contents",
   "toc_cell": false,
   "toc_position": {},
   "toc_section_display": true,
   "toc_window_display": false
  },
  "varInspector": {
   "cols": {
    "lenName": 16,
    "lenType": 16,
    "lenVar": 40
   },
   "kernels_config": {
    "python": {
     "delete_cmd_postfix": "",
     "delete_cmd_prefix": "del ",
     "library": "var_list.py",
     "varRefreshCmd": "print(var_dic_list())"
    },
    "r": {
     "delete_cmd_postfix": ") ",
     "delete_cmd_prefix": "rm(",
     "library": "var_list.r",
     "varRefreshCmd": "cat(var_dic_list()) "
    }
   },
   "types_to_exclude": [
    "module",
    "function",
    "builtin_function_or_method",
    "instance",
    "_Feature"
   ],
   "window_display": false
  }
 },
 "nbformat": 4,
 "nbformat_minor": 2
}
